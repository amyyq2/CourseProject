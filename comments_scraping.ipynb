{
  "nbformat": 4,
  "nbformat_minor": 0,
  "metadata": {
    "colab": {
      "name": "comments_scraping.ipynb",
      "provenance": [],
      "collapsed_sections": [],
      "include_colab_link": true
    },
    "kernelspec": {
      "name": "python3",
      "display_name": "Python 3"
    },
    "language_info": {
      "name": "python"
    }
  },
  "cells": [
    {
      "cell_type": "markdown",
      "metadata": {
        "id": "view-in-github",
        "colab_type": "text"
      },
      "source": [
        "<a href=\"https://colab.research.google.com/github/amyyq2/CourseProject/blob/main/comments_scraping.ipynb\" target=\"_parent\"><img src=\"https://colab.research.google.com/assets/colab-badge.svg\" alt=\"Open In Colab\"/></a>"
      ]
    },
    {
      "cell_type": "code",
      "metadata": {
        "colab": {
          "base_uri": "https://localhost:8080/",
          "height": 940
        },
        "id": "unN9PqBCAeg1",
        "outputId": "88546d78-4ecc-4155-a875-69f070c74d12"
      },
      "source": [
        "!pip install selenium\n",
        "!apt-get update \n",
        "!apt install chromium-chromedriver"
      ],
      "execution_count": 101,
      "outputs": [
        {
          "output_type": "stream",
          "name": "stdout",
          "text": [
            "Requirement already satisfied: selenium in /usr/local/lib/python3.7/dist-packages (4.1.0)\n",
            "Requirement already satisfied: trio-websocket~=0.9 in /usr/local/lib/python3.7/dist-packages (from selenium) (0.9.2)\n",
            "Collecting urllib3[secure]~=1.26\n",
            "  Using cached urllib3-1.26.7-py2.py3-none-any.whl (138 kB)\n",
            "Requirement already satisfied: trio~=0.17 in /usr/local/lib/python3.7/dist-packages (from selenium) (0.19.0)\n",
            "Requirement already satisfied: sortedcontainers in /usr/local/lib/python3.7/dist-packages (from trio~=0.17->selenium) (2.4.0)\n",
            "Requirement already satisfied: async-generator>=1.9 in /usr/local/lib/python3.7/dist-packages (from trio~=0.17->selenium) (1.10)\n",
            "Requirement already satisfied: sniffio in /usr/local/lib/python3.7/dist-packages (from trio~=0.17->selenium) (1.2.0)\n",
            "Requirement already satisfied: idna in /usr/local/lib/python3.7/dist-packages (from trio~=0.17->selenium) (2.10)\n",
            "Requirement already satisfied: outcome in /usr/local/lib/python3.7/dist-packages (from trio~=0.17->selenium) (1.1.0)\n",
            "Requirement already satisfied: attrs>=19.2.0 in /usr/local/lib/python3.7/dist-packages (from trio~=0.17->selenium) (21.2.0)\n",
            "Requirement already satisfied: wsproto>=0.14 in /usr/local/lib/python3.7/dist-packages (from trio-websocket~=0.9->selenium) (1.0.0)\n",
            "Requirement already satisfied: certifi in /usr/local/lib/python3.7/dist-packages (from urllib3[secure]~=1.26->selenium) (2021.10.8)\n",
            "Requirement already satisfied: cryptography>=1.3.4 in /usr/local/lib/python3.7/dist-packages (from urllib3[secure]~=1.26->selenium) (36.0.0)\n",
            "Requirement already satisfied: pyOpenSSL>=0.14 in /usr/local/lib/python3.7/dist-packages (from urllib3[secure]~=1.26->selenium) (21.0.0)\n",
            "Requirement already satisfied: cffi>=1.12 in /usr/local/lib/python3.7/dist-packages (from cryptography>=1.3.4->urllib3[secure]~=1.26->selenium) (1.15.0)\n",
            "Requirement already satisfied: pycparser in /usr/local/lib/python3.7/dist-packages (from cffi>=1.12->cryptography>=1.3.4->urllib3[secure]~=1.26->selenium) (2.21)\n",
            "Requirement already satisfied: six>=1.5.2 in /usr/local/lib/python3.7/dist-packages (from pyOpenSSL>=0.14->urllib3[secure]~=1.26->selenium) (1.15.0)\n",
            "Requirement already satisfied: h11<1,>=0.9.0 in /usr/local/lib/python3.7/dist-packages (from wsproto>=0.14->trio-websocket~=0.9->selenium) (0.12.0)\n",
            "Installing collected packages: urllib3\n",
            "  Attempting uninstall: urllib3\n",
            "    Found existing installation: urllib3 1.25.11\n",
            "    Uninstalling urllib3-1.25.11:\n",
            "      Successfully uninstalled urllib3-1.25.11\n",
            "\u001b[31mERROR: pip's dependency resolver does not currently take into account all the packages that are installed. This behaviour is the source of the following dependency conflicts.\n",
            "requests 2.23.0 requires urllib3!=1.25.0,!=1.25.1,<1.26,>=1.21.1, but you have urllib3 1.26.7 which is incompatible.\n",
            "datascience 0.10.6 requires folium==0.2.1, but you have folium 0.8.3 which is incompatible.\u001b[0m\n",
            "Successfully installed urllib3-1.26.7\n"
          ]
        },
        {
          "output_type": "display_data",
          "data": {
            "application/vnd.colab-display-data+json": {
              "pip_warning": {
                "packages": [
                  "urllib3"
                ]
              }
            }
          },
          "metadata": {}
        },
        {
          "output_type": "stream",
          "name": "stdout",
          "text": [
            "\r0% [Working]\r            \rHit:1 https://cloud.r-project.org/bin/linux/ubuntu bionic-cran40/ InRelease\n",
            "Ign:2 https://developer.download.nvidia.com/compute/cuda/repos/ubuntu1804/x86_64  InRelease\n",
            "Hit:3 http://ppa.launchpad.net/c2d4u.team/c2d4u4.0+/ubuntu bionic InRelease\n",
            "Ign:4 https://developer.download.nvidia.com/compute/machine-learning/repos/ubuntu1804/x86_64  InRelease\n",
            "Hit:5 http://security.ubuntu.com/ubuntu bionic-security InRelease\n",
            "Hit:6 https://developer.download.nvidia.com/compute/cuda/repos/ubuntu1804/x86_64  Release\n",
            "Hit:7 https://developer.download.nvidia.com/compute/machine-learning/repos/ubuntu1804/x86_64  Release\n",
            "Hit:8 http://archive.ubuntu.com/ubuntu bionic InRelease\n",
            "Hit:9 http://ppa.launchpad.net/cran/libgit2/ubuntu bionic InRelease\n",
            "Hit:10 http://archive.ubuntu.com/ubuntu bionic-updates InRelease\n",
            "Hit:11 http://archive.ubuntu.com/ubuntu bionic-backports InRelease\n",
            "Hit:12 http://ppa.launchpad.net/deadsnakes/ppa/ubuntu bionic InRelease\n",
            "Hit:13 http://ppa.launchpad.net/graphics-drivers/ppa/ubuntu bionic InRelease\n",
            "Reading package lists... Done\n",
            "Reading package lists... Done\n",
            "Building dependency tree       \n",
            "Reading state information... Done\n",
            "chromium-chromedriver is already the newest version (95.0.4638.69-0ubuntu0.18.04.1).\n",
            "0 upgraded, 0 newly installed, 0 to remove and 55 not upgraded.\n"
          ]
        }
      ]
    },
    {
      "cell_type": "code",
      "metadata": {
        "colab": {
          "base_uri": "https://localhost:8080/"
        },
        "id": "5tNfAczlABE9",
        "outputId": "d5c0e4ad-f9bb-4047-c76c-26523589ecbe"
      },
      "source": [
        "import time\n",
        "from selenium.webdriver import Chrome\n",
        "from selenium.webdriver.common.by import By\n",
        "from selenium.webdriver.common.keys import Keys\n",
        "from selenium.webdriver.support.ui import WebDriverWait\n",
        "from selenium.webdriver.support import expected_conditions as EC\n",
        "import pandas as pd   \n",
        "from selenium import webdriver\n",
        "\n",
        "data=[]\n",
        "# driver = webdriver.Chrome('/path/to/chromedriver') \n",
        "chrome_options = webdriver.ChromeOptions()\n",
        "chrome_options.add_argument('--headless')\n",
        "chrome_options.add_argument('--no-sandbox')\n",
        "chrome_options.add_argument('--disable-dev-shm-usage')\n",
        "# driver = webdriver.Chrome('chromedriver',chrome_options=chrome_options)\n",
        "\n",
        "with Chrome('chromedriver',chrome_options=chrome_options) as driver:\n",
        "    wait = WebDriverWait(driver,15)\n",
        "    # driver.get(\"https://www.youtube.com/watch?v=0EVVKs6DQLo\") # kiss me more\n",
        "    driver.get(\"https://www.youtube.com/watch?v=YbJOTdZBX1g\") # baby shark\n",
        "\n",
        "    for item in range(40): \n",
        "        wait.until(EC.visibility_of_element_located((By.TAG_NAME, \"body\"))).send_keys(Keys.END)\n",
        "        # time.sleep(15)\n",
        "\n",
        "    comments = wait.until(EC.presence_of_all_elements_located((By.CSS_SELECTOR, \"#content\")))\n",
        "    for comment in comments:\n",
        "        data.append(comment.text)\n",
        "\n",
        "df = pd.DataFrame(data, columns=['comment'])"
      ],
      "execution_count": 102,
      "outputs": [
        {
          "output_type": "stream",
          "name": "stderr",
          "text": [
            "/usr/local/lib/python3.7/dist-packages/ipykernel_launcher.py:18: DeprecationWarning: use options instead of chrome_options\n"
          ]
        }
      ]
    },
    {
      "cell_type": "code",
      "metadata": {
        "colab": {
          "base_uri": "https://localhost:8080/",
          "height": 672
        },
        "id": "u9PwVHjXFooe",
        "outputId": "be497730-6502-4454-e544-7155cef4a986"
      },
      "source": [
        "%load_ext google.colab.data_table\n",
        "df.iloc[2: , :]"
      ],
      "execution_count": 103,
      "outputs": [
        {
          "output_type": "stream",
          "name": "stdout",
          "text": [
            "The google.colab.data_table extension is already loaded. To reload it, use:\n",
            "  %reload_ext google.colab.data_table\n"
          ]
        },
        {
          "output_type": "execute_result",
          "data": {
            "application/vnd.google.colaboratory.module+javascript": "\n      import \"https://ssl.gstatic.com/colaboratory/data_table/a6224c040fa35dcf/data_table.js\";\n\n      window.createDataTable({\n        data: [[{\n            'v': 2,\n            'f': \"2\",\n        },\n\"Let\\u2019s all take a moment of silence for the 19M dislikes before they get removed \"],\n [{\n            'v': 3,\n            'f': \"3\",\n        },\n\"Its nice that this video has no dislikes!\\nit must mean the video is perfect!\"],\n [{\n            'v': 4,\n            'f': \"4\",\n        },\n\"those 19M dislikes will never be forgotten. R.I.P. \"],\n [{\n            'v': 5,\n            'f': \"5\",\n        },\n\"3M likes with no dislikes! Woah this video must be liked by a lot of people\"],\n [{\n            'v': 6,\n            'f': \"6\",\n        },\n\"I cant believe 3 million people liked this and no one disliked!!!! This must be the best video of all time!!!!!!!\"],\n [{\n            'v': 7,\n            'f': \"7\",\n        },\n\"Eliminating dislikes is one of the worst ideas they have ever had, but it seems that for years they have been competing to do the wrong thing\"],\n [{\n            'v': 8,\n            'f': \"8\",\n        },\n\"rip 19m dislikes, you will be missed\"],\n [{\n            'v': 9,\n            'f': \"9\",\n        },\n\"This video is so good and amazing. That's why it has so many likes, wow.\"],\n [{\n            'v': 10,\n            'f': \"10\",\n        },\n\"You\\u2019ll never hide the fact that this video has nearly 20 million dislikes\\u2026\"],\n [{\n            'v': 11,\n            'f': \"11\",\n        },\n\"Truly disgusting that \\u201cYouTube\\u201d would \\u201cdo\\u201d such a horrible thing.\"],\n [{\n            'v': 12,\n            'f': \"12\",\n        },\n\"The whole reason they're removing dislikes is so that people think this is actually good.\"],\n [{\n            'v': 13,\n            'f': \"13\",\n        },\n\"You can hide the dislikes, but you can't hide the cringe!!!!\"],\n [{\n            'v': 14,\n            'f': \"14\",\n        },\n\"Here before dislikes vanish. 19 million dislikes, just so y'all remember.\"],\n [{\n            'v': 15,\n            'f': \"15\",\n        },\n\"Rest In Peace 19M dislikes\\n\\n\\u201cGone but never forgotten\\u201d\"],\n [{\n            'v': 16,\n            'f': \"16\",\n        },\n\"The only reason they removed dislikes was to protect their image. They couldn\\u2019t care less about anyones opinion.\"],\n [{\n            'v': 17,\n            'f': \"17\",\n        },\n\"What a great video, I am sure it doesn't have over 19.90M dislikes!!!\"],\n [{\n            'v': 18,\n            'f': \"18\",\n        },\n\"3M likes and NO DISLIKES?! This video must be GOLD!!!!\"],\n [{\n            'v': 19,\n            'f': \"19\",\n        },\n\"Youtube elimina su propia verg\\u00fcenza\"],\n [{\n            'v': 20,\n            'f': \"20\",\n        },\n\"never to hit 20 million dislikes. Sad day in our history\"],\n [{\n            'v': 21,\n            'f': \"21\",\n        },\n\"To everyone else who participate in those 19MIL dislikes, I respect you mate. Your valiant efforts will not be forgotten.\"],\n [{\n            'v': 22,\n            'f': \"22\",\n        },\n\"The countdown for all 19 million dislikes being removed starts now \"],\n [{\n            'v': 23,\n            'f': \"23\",\n        },\n\"I can't believe that 19 million dislikes will be vanished.\"],\n [{\n            'v': 24,\n            'f': \"24\",\n        },\n\"The whole YouTube community is here paying their respects to the Godfather of disliked videos.\"],\n [{\n            'v': 25,\n            'f': \"25\",\n        },\n\"We all know why dislikes got removed, we'll never forget.\"],\n [{\n            'v': 26,\n            'f': \"26\",\n        },\n\"If YouTube rewinds their decision to end dislikes, that will be a rewind that I'll like.\"],\n [{\n            'v': 27,\n            'f': \"27\",\n        },\n\"I wouldn't be surprised if this surpassed 20M dislikes or even more after the removal, just so everyone can spite YouTube. I think that's what we should do.\"],\n [{\n            'v': 28,\n            'f': \"28\",\n        },\n\"For the future generations - This video had 19M dislikes in 2021.\"],\n [{\n            'v': 29,\n            'f': \"29\",\n        },\n\"The fact that they're \\\"inclusive\\\" while silencing 19 million people says a thing or two about our society\"],\n [{\n            'v': 30,\n            'f': \"30\",\n        },\n\"rip 19mil dislikes :( \\nit was nice to see how many people banded together to hate this, as a community\"],\n [{\n            'v': 31,\n            'f': \"31\",\n        },\n\"Truly disgusting that \\u201cYouTube\\u201d would \\u201cdo\\u201d such a horrible thing.\"],\n [{\n            'v': 32,\n            'f': \"32\",\n        },\n\"Can we all agree that removing dislikes is one of the worst things ever? Tbh, I never thought that youtube might really do this especially after how angry the community was\"],\n [{\n            'v': 33,\n            'f': \"33\",\n        },\n\"I never took the time to watch this, even before doing my 2019 rewind. This is truly as horrible as everyone made it out to be. Besides being un-entertaining, totally out of touch.. the stuff tossed in at 4:34 feels so forced and jammed in here. Why are people jumping out of a plane? What does any of this have to do wit why anyone is here?\"],\n [{\n            'v': 34,\n            'f': \"34\",\n        },\n\"Press F to pay respects for the 19M dislikes.\"],\n [{\n            'v': 35,\n            'f': \"35\",\n        },\n\"If you cared about your creators you would NOT be removing dislikes.\"],\n [{\n            'v': 36,\n            'f': \"36\",\n        },\n\"Seems like everyone loved it! 3 million likes and no dislikes!!!\"],\n [{\n            'v': 37,\n            'f': \"37\",\n        },\n\"If everyone controls rewind, then everyone also controls dislikes.\"],\n [{\n            'v': 38,\n            'f': \"38\",\n        },\n\"\\\"i am so proud of this community.\\\"\\n\\n\\ncoppa: im gonna end this community career\"],\n [{\n            'v': 39,\n            'f': \"39\",\n        },\n\"just 100k more guys come on\"],\n [{\n            'v': 40,\n            'f': \"40\",\n        },\n\"It doesn't matter if the 19m dislikes are removed. The shittyness of this video will speak for itself <3\"],\n [{\n            'v': 41,\n            'f': \"41\",\n        },\n\"Removing dislikes literally helps no one. If the majority of the community hates a change, you probably shouldn't keep it.\"],\n [{\n            'v': 42,\n            'f': \"42\",\n        },\n\"They removed the dislikes. They lost their only world record they were holding before.\"],\n [{\n            'v': 43,\n            'f': \"43\",\n        },\n\"222 million views, 3 million likes and no dislikes, this video must be awesome! Let's spend some life time \"],\n [{\n            'v': 44,\n            'f': \"44\",\n        },\n\"They managed to make the worst rewind by \\u201clistening\\u201d to the people, even though the people asked nothing of this\"],\n [{\n            'v': 45,\n            'f': \"45\",\n        },\n\"Soo this is it.. guys. This is our new reality.. we will never know any piece of media that rightfully deserved dislikes.. welcome!\"],\n [{\n            'v': 46,\n            'f': \"46\",\n        },\n\"my respect goes to all the people that disliked. Once the dislikes are gone, those people who have disliked this video will be remembered deep in our hearts\"],\n [{\n            'v': 47,\n            'f': \"47\",\n        },\n\"19 Million dislikes all gone, just to protect some \\u201csmall creators mental health\\u201d. Totally not to benefit corporations or politicians and themselves. \"],\n [{\n            'v': 48,\n            'f': \"48\",\n        },\n\"People of the future: this has 3M likes, 19M dislikes. Never forget\"],\n [{\n            'v': 49,\n            'f': \"49\",\n        },\n\"The only best part of this rewind are the animators.\"],\n [{\n            'v': 50,\n            'f': \"50\",\n        },\n\"Wow 3 million likes. Everyone must've loved this video, I'm sure there's nothing that would say otherwise\"],\n [{\n            'v': 51,\n            'f': \"51\",\n        },\n\"Let\\u2019s be honest. The only reason they got rid of dislikes is because of this video.\"],\n [{\n            'v': 52,\n            'f': \"52\",\n        },\n\"19 million dislikes, nothing is forgotten! We will remember this insanity forever!\"],\n [{\n            'v': 53,\n            'f': \"53\",\n        },\n\"I'm sorry for everyone who cannot see the dislikes.\\nI mean everybody deserves to see the 8th wonder of world.\"],\n [{\n            'v': 54,\n            'f': \"54\",\n        },\n\"2018 was terrible \\n2019 we didnt even try\\n2020 we didnt even make one \\n2021 we stopped making them forever \"],\n [{\n            'v': 55,\n            'f': \"55\",\n        },\n\"The rewind 2019 is almost here. We hope that be better this year \"],\n [{\n            'v': 56,\n            'f': \"56\",\n        },\n\"well dang, let's get some F's. these we're an appreciative thought toward the community once upon a time.\\nbut on a website built upon the creators and the people, anyone can sniff out business-y ulterior motives and insincere rhetoric a mile away.\\nI'm relieved it's ending, but will always remember the 2012 one.\"],\n [{\n            'v': 57,\n            'f': \"57\",\n        },\n\"YouTube have made stupid decisions, let's not ignore this, but removing dislikes must be one of the worst ones yet!\"],\n [{\n            'v': 58,\n            'f': \"58\",\n        },\n\"TeamTrees, Pewdiepie, and Minecraft deserve to be in 2019 rewind.\"],\n [{\n            'v': 59,\n            'f': \"59\",\n        },\n\"well, now that dislikes are gone, this video is now permanently cemented as the most disliked video of all time.\"],\n [{\n            'v': 60,\n            'f': \"60\",\n        },\n\"I can see everyone is here looking fondly at the 19 million dislikes that will soon be erased by YouTube. It was fun while it lasted...\"],\n [{\n            'v': 61,\n            'f': \"61\",\n        },\n\"\\u201cLet\\u2019s give the people what they want.\\u201d \\n\\nA decent rewind with people and events that are actually important\"],\n [{\n            'v': 62,\n            'f': \"62\",\n        },\n\"YouTube: \\u201cNo, dislikes shouldn\\u2019t be on this video.\\u201d\"],\n [{\n            'v': 63,\n            'f': \"63\",\n        },\n\"\\\"To give a voice to viewers and creators\\\"\\n\\n*Takes away the one quantifiable way viewers can critically review content\\\"\"],\n [{\n            'v': 64,\n            'f': \"64\",\n        },\n\"There is one thing this Youtube really needs, be the same again.\"],\n [{\n            'v': 65,\n            'f': \"65\",\n        },\n\"This video has 0 dislikes, this must be a good video.\"],\n [{\n            'v': 66,\n            'f': \"66\",\n        },\n\"Let's keep it alive folks. We can now use the views/likes as our measure for dislikes or rename ourselves in an effort to ratio the like counter.\"],\n [{\n            'v': 67,\n            'f': \"67\",\n        },\n\"Imagine creating something on your own software that everyone hated and then being so embarrassed you decide to hide people's opinions.\\nKudos to the great team that has been making so many other wonderful decisions for YouTube.\"],\n [{\n            'v': 68,\n            'f': \"68\",\n        },\n\"That\\u2019s the reason why i snapped half of the universe.\"],\n [{\n            'v': 69,\n            'f': \"69\",\n        },\n\"\\u201cI\\u2019m so proud of this community\\u201d\\nCommunity: 19 mil dislikes\\nWell that backfired quickly\"],\n [{\n            'v': 70,\n            'f': \"70\",\n        },\n\"Wow, 3 million likes! It must've been a great rewind!\"],\n [{\n            'v': 71,\n            'f': \"71\",\n        },\n\"Truly disgusting that \\u201cYouTube\\u201d would \\u201cdo\\u201d such a horrible thing.\"],\n [{\n            'v': 72,\n            'f': \"72\",\n        },\n\"\\u201cSo this is how democracy dies\\u2026 with thunderous applause\\u201d\"],\n [{\n            'v': 73,\n            'f': \"73\",\n        },\n\"ok, but everyone knows this already has 20M dislikes just because they removed them\"],\n [{\n            'v': 74,\n            'f': \"74\",\n        },\n\"Can\\u2019t even see the video has 19 million dislikes anymore. Smh\"],\n [{\n            'v': 75,\n            'f': \"75\",\n        },\n\"19 million dislikes will be vanishing for public viewing.\\n\\n19 million opinions expressed censored from public view.\"],\n [{\n            'v': 76,\n            'f': \"76\",\n        },\n\"For those in the future who can no longer see dislikes, we would like you to know it has 19 million of them.\"],\n [{\n            'v': 77,\n            'f': \"77\",\n        },\n\"Rip YouTube dislikes. 19M shall hold the record.\"],\n [{\n            'v': 78,\n            'f': \"78\",\n        },\n\"The crowds are returning. Let's see how much better 2019's Rewind makes this one seem\"],\n [{\n            'v': 79,\n            'f': \"79\",\n        },\n\"Truly disgusting that \\u201cYouTube\\u201d would \\u201cdo\\u201d such a horrible thing.\"],\n [{\n            'v': 80,\n            'f': \"80\",\n        },\n\"I\\u2019m surprised YouTube hasn\\u2019t disabled the likes/dislikes.\"],\n [{\n            'v': 81,\n            'f': \"81\",\n        },\n\"Isn't it great guys? Soon this masterpiece will be universally loved, since there will be no more dislikes!\"],\n [{\n            'v': 82,\n            'f': \"82\",\n        },\n\"The irony is that YouTube created the most disliked video on YouTube. Can't get enough of that.\"],\n [{\n            'v': 83,\n            'f': \"83\",\n        },\n\"\\\"Don't be sad because it happened, smile because it's over\\\"\"],\n [{\n            'v': 84,\n            'f': \"84\",\n        },\n\"Instead of accepting that they did a horrible job at making rewinds, they just decided to dodge the problem lmao\"],\n [{\n            'v': 85,\n            'f': \"85\",\n        },\n\"definitely the only good thing about this video were the dislikes and also the platform.\\nmore than 1 million people like this video!? wow surely it must be very good!.\"],\n [{\n            'v': 86,\n            'f': \"86\",\n        },\n\"Let\\u2019s All Agree That This Rewind Would Be Nothing Without The Dislikes.\"],\n [{\n            'v': 87,\n            'f': \"87\",\n        },\n\"And now it's official: dislikes are unfortunately removed.\"],\n [{\n            'v': 88,\n            'f': \"88\",\n        },\n\"2018: we tried but failed horribly\\n2019: we didn\\u2019t even try\\n2020: we didn\\u2019t even make one\"],\n [{\n            'v': 89,\n            'f': \"89\",\n        },\n\"Let's take a moment to realize the amount of dislikes that got removed. 19-20 million dislikes went away in an instant but they're still there no matter what YouTube does to hide it. F to pay respects for the amount of dislikes that were removed. We'll always remember this.\"],\n [{\n            'v': 90,\n            'f': \"90\",\n        },\n\"If Pewdiepie isn\\u2019t hosting 2019... everyone is gonna feel the wrath of the 9 year old army\"],\n [{\n            'v': 91,\n            'f': \"91\",\n        },\n\"\\\"Everyone gets to control rewind!\\\"\\n\\nYoutube removes dislikes\\n\\nEveryone: You have become the very thing you swore to destroy\"],\n [{\n            'v': 92,\n            'f': \"92\",\n        },\n\"RIP 19M. You made the impossible, possible. You united all nations against big, bad L. We'll never forget you. \"],\n [{\n            'v': 93,\n            'f': \"93\",\n        },\n\"Man this video must be well received! No dislikes!\"],\n [{\n            'v': 94,\n            'f': \"94\",\n        },\n\"Who else came back this video just to see how many dislikes this video has racked up over the past 8 months?\"],\n [{\n            'v': 95,\n            'f': \"95\",\n        },\n\"Makes me cry knowing im never gonna see those 19 million dislikes again..\"],\n [{\n            'v': 96,\n            'f': \"96\",\n        },\n\"Wow with 3M likes and no visible dislikes, this video must be loved by the community at large!\"],\n [{\n            'v': 97,\n            'f': \"97\",\n        },\n\"Pinche Youtube, ni quitando los dislikes este video no dejar\\u00e1 de ser muy malo\"],\n [{\n            'v': 98,\n            'f': \"98\",\n        },\n\"I feel so bad for the creators in this video who are actually good. I\\u2019m so sorry for all of those poor animation YouTubers who had to be featured like that. 19m dislikes will be remembered\"],\n [{\n            'v': 99,\n            'f': \"99\",\n        },\n\"Their plan is complete. We can no longer see the dislikes.\"],\n [{\n            'v': 100,\n            'f': \"100\",\n        },\n\"YouTube : We could make the best YouTube Rewind this year.\\n\\nBUT ARE WE GONNA!?\"],\n [{\n            'v': 101,\n            'f': \"101\",\n        },\n\"I just realized we will never see 20 million dislikes here\\u2026\"],\n [{\n            'v': 102,\n            'f': \"102\",\n        },\n\"To everyone who can't see the dislikes now, don't be afraid of disliking this video, there's people who can still see them, and it would be amazing if we hit 20 millions dislikes before this history ends.\\nRemember, whoever tries to delete the truth will never be able to change it...\\nEdit - 29/11/21: I can't see the dislikes anymore, F...\"],\n [{\n            'v': 103,\n            'f': \"103\",\n        },\n\"Things that Rewind needs:\\n1. Appreciate creators\\n2. Memes\\n3. Animals\"],\n [{\n            'v': 104,\n            'f': \"104\",\n        },\n\"You know, it\\u2019s impressive how terribly this has aged in less than 3 years.\"],\n [{\n            'v': 105,\n            'f': \"105\",\n        },\n\"Woah a video with 3 million likes and no dislikes, seems like it\\u2019s super enjoyed by everyone!\"],\n [{\n            'v': 106,\n            'f': \"106\",\n        },\n\"This makes me realize that Thanos is a good guy.\"],\n [{\n            'v': 107,\n            'f': \"107\",\n        },\n\"Fun fact: Removing dislikes would generate more dislikes\"],\n [{\n            'v': 108,\n            'f': \"108\",\n        },\n\"And now you're removing dislikes. You have no backbone YouTube.\"],\n [{\n            'v': 109,\n            'f': \"109\",\n        },\n\"\\u201cI want to thank the whole community that always supports during our best and worst\\u201d\\n\\n19 million dislikes\"],\n [{\n            'v': 110,\n            'f': \"110\",\n        },\n\"The fact that 3 million people liked this is beyond me\"],\n [{\n            'v': 111,\n            'f': \"111\",\n        },\n\"Truly disgusting that \\u201cYouTube\\u201d would \\u201cdo\\u201d such a horrible thing.\"],\n [{\n            'v': 112,\n            'f': \"112\",\n        },\n\"I just love how everyone on youtube hated this video. \\n\\nwe all can finally agree on something <3\"],\n [{\n            'v': 113,\n            'f': \"113\",\n        },\n\"The number of dislikes must be more than 20M by now.\"],\n [{\n            'v': 114,\n            'f': \"114\",\n        },\n\"They will break the world record for most disliked video on YouTube. \\n\\nAnd now that it has happened, and 2020 rewind didn't happen at all, this whole thing most likely won't continue anymore ;)\"],\n [{\n            'v': 115,\n            'f': \"115\",\n        },\n\"2021: \\u201cit\\u2019s been three years, maybe it\\u2019s not as bad as I remember \\u201c\\nrewatches it \\u201cyep, it\\u2019s just as bad\\u201d\"],\n [{\n            'v': 116,\n            'f': \"116\",\n        },\n\"It's crazy how Pewdiepie has more subs than YouTube themselves.\"],\n [{\n            'v': 117,\n            'f': \"117\",\n        },\n\"We will never forget the 19M dislikes, there's no point in hiding it!\"],\n [{\n            'v': 118,\n            'f': \"118\",\n        },\n\"\\u201cLets give the community what they want!\\u201d\\n\\nWell, you failed horribly.\"],\n [{\n            'v': 119,\n            'f': \"119\",\n        },\n\"Dont worry guys, the dislikes still exist, but we just can't see those beautiful 19 Million Dislikes anymore :(\"],\n [{\n            'v': 120,\n            'f': \"120\",\n        },\n\"Honestly im just waiting for the better youtube rewind. From ryan higga.\"],\n [{\n            'v': 121,\n            'f': \"121\",\n        },\n\"\\\"let's give the people what they want\\\"\\n\\\"We want a better rewind\\\"\\n\\\"Let's not give people what they want\\\"\"],\n [{\n            'v': 122,\n            'f': \"122\",\n        },\n\"Every year youtube just keeps getting disconnected from its content creators.\"],\n [{\n            'v': 123,\n            'f': \"123\",\n        },\n\"8:15 Legendary moment.\"],\n [{\n            'v': 124,\n            'f': \"124\",\n        },\n\"Let's face it, the animators made this rewind slightly better\\n\\nDang how'd this get 1.2k?\"],\n [{\n            'v': 125,\n            'f': \"125\",\n        },\n\"Man! 3 million likes with no dislikes? This must be an amazing video, I can\\u2019t wait to watch it\"],\n [{\n            'v': 126,\n            'f': \"126\",\n        },\n\"I felt a great disturbance, as if 19 million dislikes suddenly cried out in terror and were suddenly silenced. I fear something terrible has happened.\"],\n [{\n            'v': 127,\n            'f': \"127\",\n        },\n\"Probably the reason why YouTube got rid of the dislikes was because this video had 19 million dislikes\"],\n [{\n            'v': 128,\n            'f': \"128\",\n        },\n\"\\\"let's give the people what they want\\\"\\n\\nThe people: 19 Million dislikes\"],\n [{\n            'v': 129,\n            'f': \"129\",\n        },\n\"What a good video with 3 Million likes, i hope the entire YouTube community like this 2018 rewind\"],\n [{\n            'v': 130,\n            'f': \"130\",\n        },\n\"This is the equivalent of hitting every key on a piano at the same time.\"],\n [{\n            'v': 131,\n            'f': \"131\",\n        },\n\"Theory: what if this whole youtube getting rid of there dislikes thing, was just to make the worst video on youtube\\nNot look bad \"],\n [{\n            'v': 132,\n            'f': \"132\",\n        },\n\"It\\u2019s like we\\u2019re in a dystopian world and we did something we\\u2019re not supposed to, now we can\\u2019t do it no more \"],\n [{\n            'v': 133,\n            'f': \"133\",\n        },\n\"3 Million Likes and no Dislikes\\nThis video is too good, not cringe anymore\"],\n [{\n            'v': 134,\n            'f': \"134\",\n        },\n\"\\\"Let's give people what they want\\\"\\n\\n\\nPeople: 17M dislikes\"],\n [{\n            'v': 135,\n            'f': \"135\",\n        },\n\"8:14 The BEST Part Of The Whole Video\"],\n [{\n            'v': 136,\n            'f': \"136\",\n        },\n\"Removing the 19 million dislikes and keeping the 3 million likes is like a used car salesman telling you 3 positive things about a car but never mentioning it was in 9 previous accidents.\"],\n [{\n            'v': 137,\n            'f': \"137\",\n        },\n\"removing dislikes just shows how much is Youtube scared of actual feedback.\"],\n [{\n            'v': 138,\n            'f': \"138\",\n        },\n\"We are all talking bout the 19 million dislikes being taken off, but let's take a moment to think about the 3 million people who actually decided to like this.\"],\n [{\n            'v': 139,\n            'f': \"139\",\n        },\n\"rewatching this made me realize how out of touch youtube is, they really do deserve to be one of the most disliked content creators on youtube\"],\n [{\n            'v': 140,\n            'f': \"140\",\n        },\n\"I literally have completely no idea who 90% of the people in this are\"],\n [{\n            'v': 141,\n            'f': \"141\",\n        },\n\"Wow! 3 million likes! This must be a really good video with a very high public opinion! They really must\\u2019ve made a hilarious and relatable video to do that well!\"]],\n        columns: [[\"number\", \"index\"], [\"string\", \"comment\"]],\n        columnOptions: [{\"width\": \"1px\", \"className\": \"index_column\"}],\n        rowsPerPage: 25,\n        helpUrl: \"https://colab.research.google.com/notebooks/data_table.ipynb\",\n        suppressOutputScrolling: true,\n        minimumWidth: undefined,\n      });\n    ",
            "text/html": [
              "<div>\n",
              "<style scoped>\n",
              "    .dataframe tbody tr th:only-of-type {\n",
              "        vertical-align: middle;\n",
              "    }\n",
              "\n",
              "    .dataframe tbody tr th {\n",
              "        vertical-align: top;\n",
              "    }\n",
              "\n",
              "    .dataframe thead th {\n",
              "        text-align: right;\n",
              "    }\n",
              "</style>\n",
              "<table border=\"1\" class=\"dataframe\">\n",
              "  <thead>\n",
              "    <tr style=\"text-align: right;\">\n",
              "      <th></th>\n",
              "      <th>comment</th>\n",
              "    </tr>\n",
              "  </thead>\n",
              "  <tbody>\n",
              "    <tr>\n",
              "      <th>2</th>\n",
              "      <td>Let’s all take a moment of silence for the 19M...</td>\n",
              "    </tr>\n",
              "    <tr>\n",
              "      <th>3</th>\n",
              "      <td>Its nice that this video has no dislikes!\\nit ...</td>\n",
              "    </tr>\n",
              "    <tr>\n",
              "      <th>4</th>\n",
              "      <td>those 19M dislikes will never be forgotten. R....</td>\n",
              "    </tr>\n",
              "    <tr>\n",
              "      <th>5</th>\n",
              "      <td>3M likes with no dislikes! Woah this video mus...</td>\n",
              "    </tr>\n",
              "    <tr>\n",
              "      <th>6</th>\n",
              "      <td>I cant believe 3 million people liked this and...</td>\n",
              "    </tr>\n",
              "    <tr>\n",
              "      <th>...</th>\n",
              "      <td>...</td>\n",
              "    </tr>\n",
              "    <tr>\n",
              "      <th>137</th>\n",
              "      <td>removing dislikes just shows how much is Youtu...</td>\n",
              "    </tr>\n",
              "    <tr>\n",
              "      <th>138</th>\n",
              "      <td>We are all talking bout the 19 million dislike...</td>\n",
              "    </tr>\n",
              "    <tr>\n",
              "      <th>139</th>\n",
              "      <td>rewatching this made me realize how out of tou...</td>\n",
              "    </tr>\n",
              "    <tr>\n",
              "      <th>140</th>\n",
              "      <td>I literally have completely no idea who 90% of...</td>\n",
              "    </tr>\n",
              "    <tr>\n",
              "      <th>141</th>\n",
              "      <td>Wow! 3 million likes! This must be a really go...</td>\n",
              "    </tr>\n",
              "  </tbody>\n",
              "</table>\n",
              "<p>140 rows × 1 columns</p>\n",
              "</div>"
            ],
            "text/plain": [
              "                                               comment\n",
              "2    Let’s all take a moment of silence for the 19M...\n",
              "3    Its nice that this video has no dislikes!\\nit ...\n",
              "4    those 19M dislikes will never be forgotten. R....\n",
              "5    3M likes with no dislikes! Woah this video mus...\n",
              "6    I cant believe 3 million people liked this and...\n",
              "..                                                 ...\n",
              "137  removing dislikes just shows how much is Youtu...\n",
              "138  We are all talking bout the 19 million dislike...\n",
              "139  rewatching this made me realize how out of tou...\n",
              "140  I literally have completely no idea who 90% of...\n",
              "141  Wow! 3 million likes! This must be a really go...\n",
              "\n",
              "[140 rows x 1 columns]"
            ]
          },
          "metadata": {},
          "execution_count": 103
        }
      ]
    },
    {
      "cell_type": "markdown",
      "metadata": {
        "id": "lZQ1sdVvHwQl"
      },
      "source": [
        "# Data Cleaning\n",
        "- Filter out non-english comments\n",
        "- Filter out EXACT duplicate comments\n"
      ]
    },
    {
      "cell_type": "code",
      "metadata": {
        "id": "T1Gi3bPsf8ma"
      },
      "source": [
        "\"\"\"\n",
        "Remove first two rows\n",
        "\"\"\"\n",
        "df = df.drop([0, 1])"
      ],
      "execution_count": 104,
      "outputs": []
    },
    {
      "cell_type": "code",
      "metadata": {
        "id": "2o7PnttfaQiH",
        "colab": {
          "base_uri": "https://localhost:8080/"
        },
        "outputId": "cf39a88d-5698-49b1-fe04-16e4fc7a035f"
      },
      "source": [
        "'''\n",
        "Removing all non-english comments\n",
        "'''\n",
        "!pip install langdetect\n",
        "from langdetect import detect"
      ],
      "execution_count": 105,
      "outputs": [
        {
          "output_type": "stream",
          "name": "stdout",
          "text": [
            "Requirement already satisfied: langdetect in /usr/local/lib/python3.7/dist-packages (1.0.9)\n",
            "Requirement already satisfied: six in /usr/local/lib/python3.7/dist-packages (from langdetect) (1.15.0)\n"
          ]
        }
      ]
    },
    {
      "cell_type": "code",
      "metadata": {
        "id": "ft1Qm3trUSO5"
      },
      "source": [
        "\n",
        "def detect_lang(text):\n",
        "    return detect(text)\n",
        "\n",
        "df.drop(df[df['comment'].map(detect_lang) != \"en\"].index, inplace = True)"
      ],
      "execution_count": 106,
      "outputs": []
    },
    {
      "cell_type": "code",
      "metadata": {
        "id": "BQVhgMjjaXxy",
        "colab": {
          "base_uri": "https://localhost:8080/",
          "height": 672
        },
        "outputId": "e9ac239d-e0a9-4d99-9566-27cf07d288fa"
      },
      "source": [
        "%load_ext google.colab.data_table\n",
        "df.iloc[: , :]"
      ],
      "execution_count": 107,
      "outputs": [
        {
          "output_type": "stream",
          "name": "stdout",
          "text": [
            "The google.colab.data_table extension is already loaded. To reload it, use:\n",
            "  %reload_ext google.colab.data_table\n"
          ]
        },
        {
          "output_type": "execute_result",
          "data": {
            "application/vnd.google.colaboratory.module+javascript": "\n      import \"https://ssl.gstatic.com/colaboratory/data_table/a6224c040fa35dcf/data_table.js\";\n\n      window.createDataTable({\n        data: [[{\n            'v': 2,\n            'f': \"2\",\n        },\n\"Let\\u2019s all take a moment of silence for the 19M dislikes before they get removed \"],\n [{\n            'v': 3,\n            'f': \"3\",\n        },\n\"Its nice that this video has no dislikes!\\nit must mean the video is perfect!\"],\n [{\n            'v': 4,\n            'f': \"4\",\n        },\n\"those 19M dislikes will never be forgotten. R.I.P. \"],\n [{\n            'v': 5,\n            'f': \"5\",\n        },\n\"3M likes with no dislikes! Woah this video must be liked by a lot of people\"],\n [{\n            'v': 6,\n            'f': \"6\",\n        },\n\"I cant believe 3 million people liked this and no one disliked!!!! This must be the best video of all time!!!!!!!\"],\n [{\n            'v': 7,\n            'f': \"7\",\n        },\n\"Eliminating dislikes is one of the worst ideas they have ever had, but it seems that for years they have been competing to do the wrong thing\"],\n [{\n            'v': 9,\n            'f': \"9\",\n        },\n\"This video is so good and amazing. That's why it has so many likes, wow.\"],\n [{\n            'v': 10,\n            'f': \"10\",\n        },\n\"You\\u2019ll never hide the fact that this video has nearly 20 million dislikes\\u2026\"],\n [{\n            'v': 11,\n            'f': \"11\",\n        },\n\"Truly disgusting that \\u201cYouTube\\u201d would \\u201cdo\\u201d such a horrible thing.\"],\n [{\n            'v': 12,\n            'f': \"12\",\n        },\n\"The whole reason they're removing dislikes is so that people think this is actually good.\"],\n [{\n            'v': 13,\n            'f': \"13\",\n        },\n\"You can hide the dislikes, but you can't hide the cringe!!!!\"],\n [{\n            'v': 15,\n            'f': \"15\",\n        },\n\"Rest In Peace 19M dislikes\\n\\n\\u201cGone but never forgotten\\u201d\"],\n [{\n            'v': 16,\n            'f': \"16\",\n        },\n\"The only reason they removed dislikes was to protect their image. They couldn\\u2019t care less about anyones opinion.\"],\n [{\n            'v': 17,\n            'f': \"17\",\n        },\n\"What a great video, I am sure it doesn't have over 19.90M dislikes!!!\"],\n [{\n            'v': 18,\n            'f': \"18\",\n        },\n\"3M likes and NO DISLIKES?! This video must be GOLD!!!!\"],\n [{\n            'v': 20,\n            'f': \"20\",\n        },\n\"never to hit 20 million dislikes. Sad day in our history\"],\n [{\n            'v': 21,\n            'f': \"21\",\n        },\n\"To everyone else who participate in those 19MIL dislikes, I respect you mate. Your valiant efforts will not be forgotten.\"],\n [{\n            'v': 22,\n            'f': \"22\",\n        },\n\"The countdown for all 19 million dislikes being removed starts now \"],\n [{\n            'v': 23,\n            'f': \"23\",\n        },\n\"I can't believe that 19 million dislikes will be vanished.\"],\n [{\n            'v': 24,\n            'f': \"24\",\n        },\n\"The whole YouTube community is here paying their respects to the Godfather of disliked videos.\"],\n [{\n            'v': 25,\n            'f': \"25\",\n        },\n\"We all know why dislikes got removed, we'll never forget.\"],\n [{\n            'v': 26,\n            'f': \"26\",\n        },\n\"If YouTube rewinds their decision to end dislikes, that will be a rewind that I'll like.\"],\n [{\n            'v': 27,\n            'f': \"27\",\n        },\n\"I wouldn't be surprised if this surpassed 20M dislikes or even more after the removal, just so everyone can spite YouTube. I think that's what we should do.\"],\n [{\n            'v': 28,\n            'f': \"28\",\n        },\n\"For the future generations - This video had 19M dislikes in 2021.\"],\n [{\n            'v': 29,\n            'f': \"29\",\n        },\n\"The fact that they're \\\"inclusive\\\" while silencing 19 million people says a thing or two about our society\"],\n [{\n            'v': 30,\n            'f': \"30\",\n        },\n\"rip 19mil dislikes :( \\nit was nice to see how many people banded together to hate this, as a community\"],\n [{\n            'v': 31,\n            'f': \"31\",\n        },\n\"Truly disgusting that \\u201cYouTube\\u201d would \\u201cdo\\u201d such a horrible thing.\"],\n [{\n            'v': 32,\n            'f': \"32\",\n        },\n\"Can we all agree that removing dislikes is one of the worst things ever? Tbh, I never thought that youtube might really do this especially after how angry the community was\"],\n [{\n            'v': 33,\n            'f': \"33\",\n        },\n\"I never took the time to watch this, even before doing my 2019 rewind. This is truly as horrible as everyone made it out to be. Besides being un-entertaining, totally out of touch.. the stuff tossed in at 4:34 feels so forced and jammed in here. Why are people jumping out of a plane? What does any of this have to do wit why anyone is here?\"],\n [{\n            'v': 34,\n            'f': \"34\",\n        },\n\"Press F to pay respects for the 19M dislikes.\"],\n [{\n            'v': 35,\n            'f': \"35\",\n        },\n\"If you cared about your creators you would NOT be removing dislikes.\"],\n [{\n            'v': 37,\n            'f': \"37\",\n        },\n\"If everyone controls rewind, then everyone also controls dislikes.\"],\n [{\n            'v': 38,\n            'f': \"38\",\n        },\n\"\\\"i am so proud of this community.\\\"\\n\\n\\ncoppa: im gonna end this community career\"],\n [{\n            'v': 40,\n            'f': \"40\",\n        },\n\"It doesn't matter if the 19m dislikes are removed. The shittyness of this video will speak for itself <3\"],\n [{\n            'v': 41,\n            'f': \"41\",\n        },\n\"Removing dislikes literally helps no one. If the majority of the community hates a change, you probably shouldn't keep it.\"],\n [{\n            'v': 42,\n            'f': \"42\",\n        },\n\"They removed the dislikes. They lost their only world record they were holding before.\"],\n [{\n            'v': 43,\n            'f': \"43\",\n        },\n\"222 million views, 3 million likes and no dislikes, this video must be awesome! Let's spend some life time \"],\n [{\n            'v': 44,\n            'f': \"44\",\n        },\n\"They managed to make the worst rewind by \\u201clistening\\u201d to the people, even though the people asked nothing of this\"],\n [{\n            'v': 45,\n            'f': \"45\",\n        },\n\"Soo this is it.. guys. This is our new reality.. we will never know any piece of media that rightfully deserved dislikes.. welcome!\"],\n [{\n            'v': 46,\n            'f': \"46\",\n        },\n\"my respect goes to all the people that disliked. Once the dislikes are gone, those people who have disliked this video will be remembered deep in our hearts\"],\n [{\n            'v': 47,\n            'f': \"47\",\n        },\n\"19 Million dislikes all gone, just to protect some \\u201csmall creators mental health\\u201d. Totally not to benefit corporations or politicians and themselves. \"],\n [{\n            'v': 48,\n            'f': \"48\",\n        },\n\"People of the future: this has 3M likes, 19M dislikes. Never forget\"],\n [{\n            'v': 49,\n            'f': \"49\",\n        },\n\"The only best part of this rewind are the animators.\"],\n [{\n            'v': 50,\n            'f': \"50\",\n        },\n\"Wow 3 million likes. Everyone must've loved this video, I'm sure there's nothing that would say otherwise\"],\n [{\n            'v': 51,\n            'f': \"51\",\n        },\n\"Let\\u2019s be honest. The only reason they got rid of dislikes is because of this video.\"],\n [{\n            'v': 52,\n            'f': \"52\",\n        },\n\"19 million dislikes, nothing is forgotten! We will remember this insanity forever!\"],\n [{\n            'v': 53,\n            'f': \"53\",\n        },\n\"I'm sorry for everyone who cannot see the dislikes.\\nI mean everybody deserves to see the 8th wonder of world.\"],\n [{\n            'v': 54,\n            'f': \"54\",\n        },\n\"2018 was terrible \\n2019 we didnt even try\\n2020 we didnt even make one \\n2021 we stopped making them forever \"],\n [{\n            'v': 55,\n            'f': \"55\",\n        },\n\"The rewind 2019 is almost here. We hope that be better this year \"],\n [{\n            'v': 56,\n            'f': \"56\",\n        },\n\"well dang, let's get some F's. these we're an appreciative thought toward the community once upon a time.\\nbut on a website built upon the creators and the people, anyone can sniff out business-y ulterior motives and insincere rhetoric a mile away.\\nI'm relieved it's ending, but will always remember the 2012 one.\"],\n [{\n            'v': 57,\n            'f': \"57\",\n        },\n\"YouTube have made stupid decisions, let's not ignore this, but removing dislikes must be one of the worst ones yet!\"],\n [{\n            'v': 58,\n            'f': \"58\",\n        },\n\"TeamTrees, Pewdiepie, and Minecraft deserve to be in 2019 rewind.\"],\n [{\n            'v': 59,\n            'f': \"59\",\n        },\n\"well, now that dislikes are gone, this video is now permanently cemented as the most disliked video of all time.\"],\n [{\n            'v': 60,\n            'f': \"60\",\n        },\n\"I can see everyone is here looking fondly at the 19 million dislikes that will soon be erased by YouTube. It was fun while it lasted...\"],\n [{\n            'v': 61,\n            'f': \"61\",\n        },\n\"\\u201cLet\\u2019s give the people what they want.\\u201d \\n\\nA decent rewind with people and events that are actually important\"],\n [{\n            'v': 62,\n            'f': \"62\",\n        },\n\"YouTube: \\u201cNo, dislikes shouldn\\u2019t be on this video.\\u201d\"],\n [{\n            'v': 63,\n            'f': \"63\",\n        },\n\"\\\"To give a voice to viewers and creators\\\"\\n\\n*Takes away the one quantifiable way viewers can critically review content\\\"\"],\n [{\n            'v': 64,\n            'f': \"64\",\n        },\n\"There is one thing this Youtube really needs, be the same again.\"],\n [{\n            'v': 65,\n            'f': \"65\",\n        },\n\"This video has 0 dislikes, this must be a good video.\"],\n [{\n            'v': 66,\n            'f': \"66\",\n        },\n\"Let's keep it alive folks. We can now use the views/likes as our measure for dislikes or rename ourselves in an effort to ratio the like counter.\"],\n [{\n            'v': 67,\n            'f': \"67\",\n        },\n\"Imagine creating something on your own software that everyone hated and then being so embarrassed you decide to hide people's opinions.\\nKudos to the great team that has been making so many other wonderful decisions for YouTube.\"],\n [{\n            'v': 68,\n            'f': \"68\",\n        },\n\"That\\u2019s the reason why i snapped half of the universe.\"],\n [{\n            'v': 69,\n            'f': \"69\",\n        },\n\"\\u201cI\\u2019m so proud of this community\\u201d\\nCommunity: 19 mil dislikes\\nWell that backfired quickly\"],\n [{\n            'v': 70,\n            'f': \"70\",\n        },\n\"Wow, 3 million likes! It must've been a great rewind!\"],\n [{\n            'v': 71,\n            'f': \"71\",\n        },\n\"Truly disgusting that \\u201cYouTube\\u201d would \\u201cdo\\u201d such a horrible thing.\"],\n [{\n            'v': 72,\n            'f': \"72\",\n        },\n\"\\u201cSo this is how democracy dies\\u2026 with thunderous applause\\u201d\"],\n [{\n            'v': 73,\n            'f': \"73\",\n        },\n\"ok, but everyone knows this already has 20M dislikes just because they removed them\"],\n [{\n            'v': 74,\n            'f': \"74\",\n        },\n\"Can\\u2019t even see the video has 19 million dislikes anymore. Smh\"],\n [{\n            'v': 75,\n            'f': \"75\",\n        },\n\"19 million dislikes will be vanishing for public viewing.\\n\\n19 million opinions expressed censored from public view.\"],\n [{\n            'v': 76,\n            'f': \"76\",\n        },\n\"For those in the future who can no longer see dislikes, we would like you to know it has 19 million of them.\"],\n [{\n            'v': 77,\n            'f': \"77\",\n        },\n\"Rip YouTube dislikes. 19M shall hold the record.\"],\n [{\n            'v': 78,\n            'f': \"78\",\n        },\n\"The crowds are returning. Let's see how much better 2019's Rewind makes this one seem\"],\n [{\n            'v': 79,\n            'f': \"79\",\n        },\n\"Truly disgusting that \\u201cYouTube\\u201d would \\u201cdo\\u201d such a horrible thing.\"],\n [{\n            'v': 80,\n            'f': \"80\",\n        },\n\"I\\u2019m surprised YouTube hasn\\u2019t disabled the likes/dislikes.\"],\n [{\n            'v': 81,\n            'f': \"81\",\n        },\n\"Isn't it great guys? Soon this masterpiece will be universally loved, since there will be no more dislikes!\"],\n [{\n            'v': 82,\n            'f': \"82\",\n        },\n\"The irony is that YouTube created the most disliked video on YouTube. Can't get enough of that.\"],\n [{\n            'v': 83,\n            'f': \"83\",\n        },\n\"\\\"Don't be sad because it happened, smile because it's over\\\"\"],\n [{\n            'v': 84,\n            'f': \"84\",\n        },\n\"Instead of accepting that they did a horrible job at making rewinds, they just decided to dodge the problem lmao\"],\n [{\n            'v': 85,\n            'f': \"85\",\n        },\n\"definitely the only good thing about this video were the dislikes and also the platform.\\nmore than 1 million people like this video!? wow surely it must be very good!.\"],\n [{\n            'v': 86,\n            'f': \"86\",\n        },\n\"Let\\u2019s All Agree That This Rewind Would Be Nothing Without The Dislikes.\"],\n [{\n            'v': 87,\n            'f': \"87\",\n        },\n\"And now it's official: dislikes are unfortunately removed.\"],\n [{\n            'v': 88,\n            'f': \"88\",\n        },\n\"2018: we tried but failed horribly\\n2019: we didn\\u2019t even try\\n2020: we didn\\u2019t even make one\"],\n [{\n            'v': 89,\n            'f': \"89\",\n        },\n\"Let's take a moment to realize the amount of dislikes that got removed. 19-20 million dislikes went away in an instant but they're still there no matter what YouTube does to hide it. F to pay respects for the amount of dislikes that were removed. We'll always remember this.\"],\n [{\n            'v': 90,\n            'f': \"90\",\n        },\n\"If Pewdiepie isn\\u2019t hosting 2019... everyone is gonna feel the wrath of the 9 year old army\"],\n [{\n            'v': 91,\n            'f': \"91\",\n        },\n\"\\\"Everyone gets to control rewind!\\\"\\n\\nYoutube removes dislikes\\n\\nEveryone: You have become the very thing you swore to destroy\"],\n [{\n            'v': 92,\n            'f': \"92\",\n        },\n\"RIP 19M. You made the impossible, possible. You united all nations against big, bad L. We'll never forget you. \"],\n [{\n            'v': 93,\n            'f': \"93\",\n        },\n\"Man this video must be well received! No dislikes!\"],\n [{\n            'v': 94,\n            'f': \"94\",\n        },\n\"Who else came back this video just to see how many dislikes this video has racked up over the past 8 months?\"],\n [{\n            'v': 95,\n            'f': \"95\",\n        },\n\"Makes me cry knowing im never gonna see those 19 million dislikes again..\"],\n [{\n            'v': 96,\n            'f': \"96\",\n        },\n\"Wow with 3M likes and no visible dislikes, this video must be loved by the community at large!\"],\n [{\n            'v': 98,\n            'f': \"98\",\n        },\n\"I feel so bad for the creators in this video who are actually good. I\\u2019m so sorry for all of those poor animation YouTubers who had to be featured like that. 19m dislikes will be remembered\"],\n [{\n            'v': 99,\n            'f': \"99\",\n        },\n\"Their plan is complete. We can no longer see the dislikes.\"],\n [{\n            'v': 100,\n            'f': \"100\",\n        },\n\"YouTube : We could make the best YouTube Rewind this year.\\n\\nBUT ARE WE GONNA!?\"],\n [{\n            'v': 101,\n            'f': \"101\",\n        },\n\"I just realized we will never see 20 million dislikes here\\u2026\"],\n [{\n            'v': 102,\n            'f': \"102\",\n        },\n\"To everyone who can't see the dislikes now, don't be afraid of disliking this video, there's people who can still see them, and it would be amazing if we hit 20 millions dislikes before this history ends.\\nRemember, whoever tries to delete the truth will never be able to change it...\\nEdit - 29/11/21: I can't see the dislikes anymore, F...\"],\n [{\n            'v': 103,\n            'f': \"103\",\n        },\n\"Things that Rewind needs:\\n1. Appreciate creators\\n2. Memes\\n3. Animals\"],\n [{\n            'v': 104,\n            'f': \"104\",\n        },\n\"You know, it\\u2019s impressive how terribly this has aged in less than 3 years.\"],\n [{\n            'v': 105,\n            'f': \"105\",\n        },\n\"Woah a video with 3 million likes and no dislikes, seems like it\\u2019s super enjoyed by everyone!\"],\n [{\n            'v': 106,\n            'f': \"106\",\n        },\n\"This makes me realize that Thanos is a good guy.\"],\n [{\n            'v': 108,\n            'f': \"108\",\n        },\n\"And now you're removing dislikes. You have no backbone YouTube.\"],\n [{\n            'v': 109,\n            'f': \"109\",\n        },\n\"\\u201cI want to thank the whole community that always supports during our best and worst\\u201d\\n\\n19 million dislikes\"],\n [{\n            'v': 110,\n            'f': \"110\",\n        },\n\"The fact that 3 million people liked this is beyond me\"],\n [{\n            'v': 111,\n            'f': \"111\",\n        },\n\"Truly disgusting that \\u201cYouTube\\u201d would \\u201cdo\\u201d such a horrible thing.\"],\n [{\n            'v': 112,\n            'f': \"112\",\n        },\n\"I just love how everyone on youtube hated this video. \\n\\nwe all can finally agree on something <3\"],\n [{\n            'v': 113,\n            'f': \"113\",\n        },\n\"The number of dislikes must be more than 20M by now.\"],\n [{\n            'v': 114,\n            'f': \"114\",\n        },\n\"They will break the world record for most disliked video on YouTube. \\n\\nAnd now that it has happened, and 2020 rewind didn't happen at all, this whole thing most likely won't continue anymore ;)\"],\n [{\n            'v': 115,\n            'f': \"115\",\n        },\n\"2021: \\u201cit\\u2019s been three years, maybe it\\u2019s not as bad as I remember \\u201c\\nrewatches it \\u201cyep, it\\u2019s just as bad\\u201d\"],\n [{\n            'v': 116,\n            'f': \"116\",\n        },\n\"It's crazy how Pewdiepie has more subs than YouTube themselves.\"],\n [{\n            'v': 117,\n            'f': \"117\",\n        },\n\"We will never forget the 19M dislikes, there's no point in hiding it!\"],\n [{\n            'v': 118,\n            'f': \"118\",\n        },\n\"\\u201cLets give the community what they want!\\u201d\\n\\nWell, you failed horribly.\"],\n [{\n            'v': 119,\n            'f': \"119\",\n        },\n\"Dont worry guys, the dislikes still exist, but we just can't see those beautiful 19 Million Dislikes anymore :(\"],\n [{\n            'v': 120,\n            'f': \"120\",\n        },\n\"Honestly im just waiting for the better youtube rewind. From ryan higga.\"],\n [{\n            'v': 121,\n            'f': \"121\",\n        },\n\"\\\"let's give the people what they want\\\"\\n\\\"We want a better rewind\\\"\\n\\\"Let's not give people what they want\\\"\"],\n [{\n            'v': 122,\n            'f': \"122\",\n        },\n\"Every year youtube just keeps getting disconnected from its content creators.\"],\n [{\n            'v': 123,\n            'f': \"123\",\n        },\n\"8:15 Legendary moment.\"],\n [{\n            'v': 124,\n            'f': \"124\",\n        },\n\"Let's face it, the animators made this rewind slightly better\\n\\nDang how'd this get 1.2k?\"],\n [{\n            'v': 125,\n            'f': \"125\",\n        },\n\"Man! 3 million likes with no dislikes? This must be an amazing video, I can\\u2019t wait to watch it\"],\n [{\n            'v': 126,\n            'f': \"126\",\n        },\n\"I felt a great disturbance, as if 19 million dislikes suddenly cried out in terror and were suddenly silenced. I fear something terrible has happened.\"],\n [{\n            'v': 127,\n            'f': \"127\",\n        },\n\"Probably the reason why YouTube got rid of the dislikes was because this video had 19 million dislikes\"],\n [{\n            'v': 128,\n            'f': \"128\",\n        },\n\"\\\"let's give the people what they want\\\"\\n\\nThe people: 19 Million dislikes\"],\n [{\n            'v': 129,\n            'f': \"129\",\n        },\n\"What a good video with 3 Million likes, i hope the entire YouTube community like this 2018 rewind\"],\n [{\n            'v': 130,\n            'f': \"130\",\n        },\n\"This is the equivalent of hitting every key on a piano at the same time.\"],\n [{\n            'v': 131,\n            'f': \"131\",\n        },\n\"Theory: what if this whole youtube getting rid of there dislikes thing, was just to make the worst video on youtube\\nNot look bad \"],\n [{\n            'v': 132,\n            'f': \"132\",\n        },\n\"It\\u2019s like we\\u2019re in a dystopian world and we did something we\\u2019re not supposed to, now we can\\u2019t do it no more \"],\n [{\n            'v': 133,\n            'f': \"133\",\n        },\n\"3 Million Likes and no Dislikes\\nThis video is too good, not cringe anymore\"],\n [{\n            'v': 134,\n            'f': \"134\",\n        },\n\"\\\"Let's give people what they want\\\"\\n\\n\\nPeople: 17M dislikes\"],\n [{\n            'v': 135,\n            'f': \"135\",\n        },\n\"8:14 The BEST Part Of The Whole Video\"],\n [{\n            'v': 136,\n            'f': \"136\",\n        },\n\"Removing the 19 million dislikes and keeping the 3 million likes is like a used car salesman telling you 3 positive things about a car but never mentioning it was in 9 previous accidents.\"],\n [{\n            'v': 137,\n            'f': \"137\",\n        },\n\"removing dislikes just shows how much is Youtube scared of actual feedback.\"],\n [{\n            'v': 138,\n            'f': \"138\",\n        },\n\"We are all talking bout the 19 million dislikes being taken off, but let's take a moment to think about the 3 million people who actually decided to like this.\"],\n [{\n            'v': 139,\n            'f': \"139\",\n        },\n\"rewatching this made me realize how out of touch youtube is, they really do deserve to be one of the most disliked content creators on youtube\"],\n [{\n            'v': 140,\n            'f': \"140\",\n        },\n\"I literally have completely no idea who 90% of the people in this are\"],\n [{\n            'v': 141,\n            'f': \"141\",\n        },\n\"Wow! 3 million likes! This must be a really good video with a very high public opinion! They really must\\u2019ve made a hilarious and relatable video to do that well!\"]],\n        columns: [[\"number\", \"index\"], [\"string\", \"comment\"]],\n        columnOptions: [{\"width\": \"1px\", \"className\": \"index_column\"}],\n        rowsPerPage: 25,\n        helpUrl: \"https://colab.research.google.com/notebooks/data_table.ipynb\",\n        suppressOutputScrolling: true,\n        minimumWidth: undefined,\n      });\n    ",
            "text/html": [
              "<div>\n",
              "<style scoped>\n",
              "    .dataframe tbody tr th:only-of-type {\n",
              "        vertical-align: middle;\n",
              "    }\n",
              "\n",
              "    .dataframe tbody tr th {\n",
              "        vertical-align: top;\n",
              "    }\n",
              "\n",
              "    .dataframe thead th {\n",
              "        text-align: right;\n",
              "    }\n",
              "</style>\n",
              "<table border=\"1\" class=\"dataframe\">\n",
              "  <thead>\n",
              "    <tr style=\"text-align: right;\">\n",
              "      <th></th>\n",
              "      <th>comment</th>\n",
              "    </tr>\n",
              "  </thead>\n",
              "  <tbody>\n",
              "    <tr>\n",
              "      <th>2</th>\n",
              "      <td>Let’s all take a moment of silence for the 19M...</td>\n",
              "    </tr>\n",
              "    <tr>\n",
              "      <th>3</th>\n",
              "      <td>Its nice that this video has no dislikes!\\nit ...</td>\n",
              "    </tr>\n",
              "    <tr>\n",
              "      <th>4</th>\n",
              "      <td>those 19M dislikes will never be forgotten. R....</td>\n",
              "    </tr>\n",
              "    <tr>\n",
              "      <th>5</th>\n",
              "      <td>3M likes with no dislikes! Woah this video mus...</td>\n",
              "    </tr>\n",
              "    <tr>\n",
              "      <th>6</th>\n",
              "      <td>I cant believe 3 million people liked this and...</td>\n",
              "    </tr>\n",
              "    <tr>\n",
              "      <th>...</th>\n",
              "      <td>...</td>\n",
              "    </tr>\n",
              "    <tr>\n",
              "      <th>137</th>\n",
              "      <td>removing dislikes just shows how much is Youtu...</td>\n",
              "    </tr>\n",
              "    <tr>\n",
              "      <th>138</th>\n",
              "      <td>We are all talking bout the 19 million dislike...</td>\n",
              "    </tr>\n",
              "    <tr>\n",
              "      <th>139</th>\n",
              "      <td>rewatching this made me realize how out of tou...</td>\n",
              "    </tr>\n",
              "    <tr>\n",
              "      <th>140</th>\n",
              "      <td>I literally have completely no idea who 90% of...</td>\n",
              "    </tr>\n",
              "    <tr>\n",
              "      <th>141</th>\n",
              "      <td>Wow! 3 million likes! This must be a really go...</td>\n",
              "    </tr>\n",
              "  </tbody>\n",
              "</table>\n",
              "<p>133 rows × 1 columns</p>\n",
              "</div>"
            ],
            "text/plain": [
              "                                               comment\n",
              "2    Let’s all take a moment of silence for the 19M...\n",
              "3    Its nice that this video has no dislikes!\\nit ...\n",
              "4    those 19M dislikes will never be forgotten. R....\n",
              "5    3M likes with no dislikes! Woah this video mus...\n",
              "6    I cant believe 3 million people liked this and...\n",
              "..                                                 ...\n",
              "137  removing dislikes just shows how much is Youtu...\n",
              "138  We are all talking bout the 19 million dislike...\n",
              "139  rewatching this made me realize how out of tou...\n",
              "140  I literally have completely no idea who 90% of...\n",
              "141  Wow! 3 million likes! This must be a really go...\n",
              "\n",
              "[133 rows x 1 columns]"
            ]
          },
          "metadata": {},
          "execution_count": 107
        }
      ]
    },
    {
      "cell_type": "code",
      "metadata": {
        "colab": {
          "base_uri": "https://localhost:8080/",
          "height": 637
        },
        "id": "o7TDFiq3ff37",
        "outputId": "fab321ab-4455-4e6c-dd92-73e328859e26"
      },
      "source": [
        "'''\n",
        "Removing duplicate comments\n",
        "'''\n",
        "\n",
        "df.drop_duplicates()"
      ],
      "execution_count": 108,
      "outputs": [
        {
          "output_type": "execute_result",
          "data": {
            "application/vnd.google.colaboratory.module+javascript": "\n      import \"https://ssl.gstatic.com/colaboratory/data_table/a6224c040fa35dcf/data_table.js\";\n\n      window.createDataTable({\n        data: [[{\n            'v': 2,\n            'f': \"2\",\n        },\n\"Let\\u2019s all take a moment of silence for the 19M dislikes before they get removed \"],\n [{\n            'v': 3,\n            'f': \"3\",\n        },\n\"Its nice that this video has no dislikes!\\nit must mean the video is perfect!\"],\n [{\n            'v': 4,\n            'f': \"4\",\n        },\n\"those 19M dislikes will never be forgotten. R.I.P. \"],\n [{\n            'v': 5,\n            'f': \"5\",\n        },\n\"3M likes with no dislikes! Woah this video must be liked by a lot of people\"],\n [{\n            'v': 6,\n            'f': \"6\",\n        },\n\"I cant believe 3 million people liked this and no one disliked!!!! This must be the best video of all time!!!!!!!\"],\n [{\n            'v': 7,\n            'f': \"7\",\n        },\n\"Eliminating dislikes is one of the worst ideas they have ever had, but it seems that for years they have been competing to do the wrong thing\"],\n [{\n            'v': 9,\n            'f': \"9\",\n        },\n\"This video is so good and amazing. That's why it has so many likes, wow.\"],\n [{\n            'v': 10,\n            'f': \"10\",\n        },\n\"You\\u2019ll never hide the fact that this video has nearly 20 million dislikes\\u2026\"],\n [{\n            'v': 11,\n            'f': \"11\",\n        },\n\"Truly disgusting that \\u201cYouTube\\u201d would \\u201cdo\\u201d such a horrible thing.\"],\n [{\n            'v': 12,\n            'f': \"12\",\n        },\n\"The whole reason they're removing dislikes is so that people think this is actually good.\"],\n [{\n            'v': 13,\n            'f': \"13\",\n        },\n\"You can hide the dislikes, but you can't hide the cringe!!!!\"],\n [{\n            'v': 15,\n            'f': \"15\",\n        },\n\"Rest In Peace 19M dislikes\\n\\n\\u201cGone but never forgotten\\u201d\"],\n [{\n            'v': 16,\n            'f': \"16\",\n        },\n\"The only reason they removed dislikes was to protect their image. They couldn\\u2019t care less about anyones opinion.\"],\n [{\n            'v': 17,\n            'f': \"17\",\n        },\n\"What a great video, I am sure it doesn't have over 19.90M dislikes!!!\"],\n [{\n            'v': 18,\n            'f': \"18\",\n        },\n\"3M likes and NO DISLIKES?! This video must be GOLD!!!!\"],\n [{\n            'v': 20,\n            'f': \"20\",\n        },\n\"never to hit 20 million dislikes. Sad day in our history\"],\n [{\n            'v': 21,\n            'f': \"21\",\n        },\n\"To everyone else who participate in those 19MIL dislikes, I respect you mate. Your valiant efforts will not be forgotten.\"],\n [{\n            'v': 22,\n            'f': \"22\",\n        },\n\"The countdown for all 19 million dislikes being removed starts now \"],\n [{\n            'v': 23,\n            'f': \"23\",\n        },\n\"I can't believe that 19 million dislikes will be vanished.\"],\n [{\n            'v': 24,\n            'f': \"24\",\n        },\n\"The whole YouTube community is here paying their respects to the Godfather of disliked videos.\"],\n [{\n            'v': 25,\n            'f': \"25\",\n        },\n\"We all know why dislikes got removed, we'll never forget.\"],\n [{\n            'v': 26,\n            'f': \"26\",\n        },\n\"If YouTube rewinds their decision to end dislikes, that will be a rewind that I'll like.\"],\n [{\n            'v': 27,\n            'f': \"27\",\n        },\n\"I wouldn't be surprised if this surpassed 20M dislikes or even more after the removal, just so everyone can spite YouTube. I think that's what we should do.\"],\n [{\n            'v': 28,\n            'f': \"28\",\n        },\n\"For the future generations - This video had 19M dislikes in 2021.\"],\n [{\n            'v': 29,\n            'f': \"29\",\n        },\n\"The fact that they're \\\"inclusive\\\" while silencing 19 million people says a thing or two about our society\"],\n [{\n            'v': 30,\n            'f': \"30\",\n        },\n\"rip 19mil dislikes :( \\nit was nice to see how many people banded together to hate this, as a community\"],\n [{\n            'v': 32,\n            'f': \"32\",\n        },\n\"Can we all agree that removing dislikes is one of the worst things ever? Tbh, I never thought that youtube might really do this especially after how angry the community was\"],\n [{\n            'v': 33,\n            'f': \"33\",\n        },\n\"I never took the time to watch this, even before doing my 2019 rewind. This is truly as horrible as everyone made it out to be. Besides being un-entertaining, totally out of touch.. the stuff tossed in at 4:34 feels so forced and jammed in here. Why are people jumping out of a plane? What does any of this have to do wit why anyone is here?\"],\n [{\n            'v': 34,\n            'f': \"34\",\n        },\n\"Press F to pay respects for the 19M dislikes.\"],\n [{\n            'v': 35,\n            'f': \"35\",\n        },\n\"If you cared about your creators you would NOT be removing dislikes.\"],\n [{\n            'v': 37,\n            'f': \"37\",\n        },\n\"If everyone controls rewind, then everyone also controls dislikes.\"],\n [{\n            'v': 38,\n            'f': \"38\",\n        },\n\"\\\"i am so proud of this community.\\\"\\n\\n\\ncoppa: im gonna end this community career\"],\n [{\n            'v': 40,\n            'f': \"40\",\n        },\n\"It doesn't matter if the 19m dislikes are removed. The shittyness of this video will speak for itself <3\"],\n [{\n            'v': 41,\n            'f': \"41\",\n        },\n\"Removing dislikes literally helps no one. If the majority of the community hates a change, you probably shouldn't keep it.\"],\n [{\n            'v': 42,\n            'f': \"42\",\n        },\n\"They removed the dislikes. They lost their only world record they were holding before.\"],\n [{\n            'v': 43,\n            'f': \"43\",\n        },\n\"222 million views, 3 million likes and no dislikes, this video must be awesome! Let's spend some life time \"],\n [{\n            'v': 44,\n            'f': \"44\",\n        },\n\"They managed to make the worst rewind by \\u201clistening\\u201d to the people, even though the people asked nothing of this\"],\n [{\n            'v': 45,\n            'f': \"45\",\n        },\n\"Soo this is it.. guys. This is our new reality.. we will never know any piece of media that rightfully deserved dislikes.. welcome!\"],\n [{\n            'v': 46,\n            'f': \"46\",\n        },\n\"my respect goes to all the people that disliked. Once the dislikes are gone, those people who have disliked this video will be remembered deep in our hearts\"],\n [{\n            'v': 47,\n            'f': \"47\",\n        },\n\"19 Million dislikes all gone, just to protect some \\u201csmall creators mental health\\u201d. Totally not to benefit corporations or politicians and themselves. \"],\n [{\n            'v': 48,\n            'f': \"48\",\n        },\n\"People of the future: this has 3M likes, 19M dislikes. Never forget\"],\n [{\n            'v': 49,\n            'f': \"49\",\n        },\n\"The only best part of this rewind are the animators.\"],\n [{\n            'v': 50,\n            'f': \"50\",\n        },\n\"Wow 3 million likes. Everyone must've loved this video, I'm sure there's nothing that would say otherwise\"],\n [{\n            'v': 51,\n            'f': \"51\",\n        },\n\"Let\\u2019s be honest. The only reason they got rid of dislikes is because of this video.\"],\n [{\n            'v': 52,\n            'f': \"52\",\n        },\n\"19 million dislikes, nothing is forgotten! We will remember this insanity forever!\"],\n [{\n            'v': 53,\n            'f': \"53\",\n        },\n\"I'm sorry for everyone who cannot see the dislikes.\\nI mean everybody deserves to see the 8th wonder of world.\"],\n [{\n            'v': 54,\n            'f': \"54\",\n        },\n\"2018 was terrible \\n2019 we didnt even try\\n2020 we didnt even make one \\n2021 we stopped making them forever \"],\n [{\n            'v': 55,\n            'f': \"55\",\n        },\n\"The rewind 2019 is almost here. We hope that be better this year \"],\n [{\n            'v': 56,\n            'f': \"56\",\n        },\n\"well dang, let's get some F's. these we're an appreciative thought toward the community once upon a time.\\nbut on a website built upon the creators and the people, anyone can sniff out business-y ulterior motives and insincere rhetoric a mile away.\\nI'm relieved it's ending, but will always remember the 2012 one.\"],\n [{\n            'v': 57,\n            'f': \"57\",\n        },\n\"YouTube have made stupid decisions, let's not ignore this, but removing dislikes must be one of the worst ones yet!\"],\n [{\n            'v': 58,\n            'f': \"58\",\n        },\n\"TeamTrees, Pewdiepie, and Minecraft deserve to be in 2019 rewind.\"],\n [{\n            'v': 59,\n            'f': \"59\",\n        },\n\"well, now that dislikes are gone, this video is now permanently cemented as the most disliked video of all time.\"],\n [{\n            'v': 60,\n            'f': \"60\",\n        },\n\"I can see everyone is here looking fondly at the 19 million dislikes that will soon be erased by YouTube. It was fun while it lasted...\"],\n [{\n            'v': 61,\n            'f': \"61\",\n        },\n\"\\u201cLet\\u2019s give the people what they want.\\u201d \\n\\nA decent rewind with people and events that are actually important\"],\n [{\n            'v': 62,\n            'f': \"62\",\n        },\n\"YouTube: \\u201cNo, dislikes shouldn\\u2019t be on this video.\\u201d\"],\n [{\n            'v': 63,\n            'f': \"63\",\n        },\n\"\\\"To give a voice to viewers and creators\\\"\\n\\n*Takes away the one quantifiable way viewers can critically review content\\\"\"],\n [{\n            'v': 64,\n            'f': \"64\",\n        },\n\"There is one thing this Youtube really needs, be the same again.\"],\n [{\n            'v': 65,\n            'f': \"65\",\n        },\n\"This video has 0 dislikes, this must be a good video.\"],\n [{\n            'v': 66,\n            'f': \"66\",\n        },\n\"Let's keep it alive folks. We can now use the views/likes as our measure for dislikes or rename ourselves in an effort to ratio the like counter.\"],\n [{\n            'v': 67,\n            'f': \"67\",\n        },\n\"Imagine creating something on your own software that everyone hated and then being so embarrassed you decide to hide people's opinions.\\nKudos to the great team that has been making so many other wonderful decisions for YouTube.\"],\n [{\n            'v': 68,\n            'f': \"68\",\n        },\n\"That\\u2019s the reason why i snapped half of the universe.\"],\n [{\n            'v': 69,\n            'f': \"69\",\n        },\n\"\\u201cI\\u2019m so proud of this community\\u201d\\nCommunity: 19 mil dislikes\\nWell that backfired quickly\"],\n [{\n            'v': 70,\n            'f': \"70\",\n        },\n\"Wow, 3 million likes! It must've been a great rewind!\"],\n [{\n            'v': 72,\n            'f': \"72\",\n        },\n\"\\u201cSo this is how democracy dies\\u2026 with thunderous applause\\u201d\"],\n [{\n            'v': 73,\n            'f': \"73\",\n        },\n\"ok, but everyone knows this already has 20M dislikes just because they removed them\"],\n [{\n            'v': 74,\n            'f': \"74\",\n        },\n\"Can\\u2019t even see the video has 19 million dislikes anymore. Smh\"],\n [{\n            'v': 75,\n            'f': \"75\",\n        },\n\"19 million dislikes will be vanishing for public viewing.\\n\\n19 million opinions expressed censored from public view.\"],\n [{\n            'v': 76,\n            'f': \"76\",\n        },\n\"For those in the future who can no longer see dislikes, we would like you to know it has 19 million of them.\"],\n [{\n            'v': 77,\n            'f': \"77\",\n        },\n\"Rip YouTube dislikes. 19M shall hold the record.\"],\n [{\n            'v': 78,\n            'f': \"78\",\n        },\n\"The crowds are returning. Let's see how much better 2019's Rewind makes this one seem\"],\n [{\n            'v': 80,\n            'f': \"80\",\n        },\n\"I\\u2019m surprised YouTube hasn\\u2019t disabled the likes/dislikes.\"],\n [{\n            'v': 81,\n            'f': \"81\",\n        },\n\"Isn't it great guys? Soon this masterpiece will be universally loved, since there will be no more dislikes!\"],\n [{\n            'v': 82,\n            'f': \"82\",\n        },\n\"The irony is that YouTube created the most disliked video on YouTube. Can't get enough of that.\"],\n [{\n            'v': 83,\n            'f': \"83\",\n        },\n\"\\\"Don't be sad because it happened, smile because it's over\\\"\"],\n [{\n            'v': 84,\n            'f': \"84\",\n        },\n\"Instead of accepting that they did a horrible job at making rewinds, they just decided to dodge the problem lmao\"],\n [{\n            'v': 85,\n            'f': \"85\",\n        },\n\"definitely the only good thing about this video were the dislikes and also the platform.\\nmore than 1 million people like this video!? wow surely it must be very good!.\"],\n [{\n            'v': 86,\n            'f': \"86\",\n        },\n\"Let\\u2019s All Agree That This Rewind Would Be Nothing Without The Dislikes.\"],\n [{\n            'v': 87,\n            'f': \"87\",\n        },\n\"And now it's official: dislikes are unfortunately removed.\"],\n [{\n            'v': 88,\n            'f': \"88\",\n        },\n\"2018: we tried but failed horribly\\n2019: we didn\\u2019t even try\\n2020: we didn\\u2019t even make one\"],\n [{\n            'v': 89,\n            'f': \"89\",\n        },\n\"Let's take a moment to realize the amount of dislikes that got removed. 19-20 million dislikes went away in an instant but they're still there no matter what YouTube does to hide it. F to pay respects for the amount of dislikes that were removed. We'll always remember this.\"],\n [{\n            'v': 90,\n            'f': \"90\",\n        },\n\"If Pewdiepie isn\\u2019t hosting 2019... everyone is gonna feel the wrath of the 9 year old army\"],\n [{\n            'v': 91,\n            'f': \"91\",\n        },\n\"\\\"Everyone gets to control rewind!\\\"\\n\\nYoutube removes dislikes\\n\\nEveryone: You have become the very thing you swore to destroy\"],\n [{\n            'v': 92,\n            'f': \"92\",\n        },\n\"RIP 19M. You made the impossible, possible. You united all nations against big, bad L. We'll never forget you. \"],\n [{\n            'v': 93,\n            'f': \"93\",\n        },\n\"Man this video must be well received! No dislikes!\"],\n [{\n            'v': 94,\n            'f': \"94\",\n        },\n\"Who else came back this video just to see how many dislikes this video has racked up over the past 8 months?\"],\n [{\n            'v': 95,\n            'f': \"95\",\n        },\n\"Makes me cry knowing im never gonna see those 19 million dislikes again..\"],\n [{\n            'v': 96,\n            'f': \"96\",\n        },\n\"Wow with 3M likes and no visible dislikes, this video must be loved by the community at large!\"],\n [{\n            'v': 98,\n            'f': \"98\",\n        },\n\"I feel so bad for the creators in this video who are actually good. I\\u2019m so sorry for all of those poor animation YouTubers who had to be featured like that. 19m dislikes will be remembered\"],\n [{\n            'v': 99,\n            'f': \"99\",\n        },\n\"Their plan is complete. We can no longer see the dislikes.\"],\n [{\n            'v': 100,\n            'f': \"100\",\n        },\n\"YouTube : We could make the best YouTube Rewind this year.\\n\\nBUT ARE WE GONNA!?\"],\n [{\n            'v': 101,\n            'f': \"101\",\n        },\n\"I just realized we will never see 20 million dislikes here\\u2026\"],\n [{\n            'v': 102,\n            'f': \"102\",\n        },\n\"To everyone who can't see the dislikes now, don't be afraid of disliking this video, there's people who can still see them, and it would be amazing if we hit 20 millions dislikes before this history ends.\\nRemember, whoever tries to delete the truth will never be able to change it...\\nEdit - 29/11/21: I can't see the dislikes anymore, F...\"],\n [{\n            'v': 103,\n            'f': \"103\",\n        },\n\"Things that Rewind needs:\\n1. Appreciate creators\\n2. Memes\\n3. Animals\"],\n [{\n            'v': 104,\n            'f': \"104\",\n        },\n\"You know, it\\u2019s impressive how terribly this has aged in less than 3 years.\"],\n [{\n            'v': 105,\n            'f': \"105\",\n        },\n\"Woah a video with 3 million likes and no dislikes, seems like it\\u2019s super enjoyed by everyone!\"],\n [{\n            'v': 106,\n            'f': \"106\",\n        },\n\"This makes me realize that Thanos is a good guy.\"],\n [{\n            'v': 108,\n            'f': \"108\",\n        },\n\"And now you're removing dislikes. You have no backbone YouTube.\"],\n [{\n            'v': 109,\n            'f': \"109\",\n        },\n\"\\u201cI want to thank the whole community that always supports during our best and worst\\u201d\\n\\n19 million dislikes\"],\n [{\n            'v': 110,\n            'f': \"110\",\n        },\n\"The fact that 3 million people liked this is beyond me\"],\n [{\n            'v': 112,\n            'f': \"112\",\n        },\n\"I just love how everyone on youtube hated this video. \\n\\nwe all can finally agree on something <3\"],\n [{\n            'v': 113,\n            'f': \"113\",\n        },\n\"The number of dislikes must be more than 20M by now.\"],\n [{\n            'v': 114,\n            'f': \"114\",\n        },\n\"They will break the world record for most disliked video on YouTube. \\n\\nAnd now that it has happened, and 2020 rewind didn't happen at all, this whole thing most likely won't continue anymore ;)\"],\n [{\n            'v': 115,\n            'f': \"115\",\n        },\n\"2021: \\u201cit\\u2019s been three years, maybe it\\u2019s not as bad as I remember \\u201c\\nrewatches it \\u201cyep, it\\u2019s just as bad\\u201d\"],\n [{\n            'v': 116,\n            'f': \"116\",\n        },\n\"It's crazy how Pewdiepie has more subs than YouTube themselves.\"],\n [{\n            'v': 117,\n            'f': \"117\",\n        },\n\"We will never forget the 19M dislikes, there's no point in hiding it!\"],\n [{\n            'v': 118,\n            'f': \"118\",\n        },\n\"\\u201cLets give the community what they want!\\u201d\\n\\nWell, you failed horribly.\"],\n [{\n            'v': 119,\n            'f': \"119\",\n        },\n\"Dont worry guys, the dislikes still exist, but we just can't see those beautiful 19 Million Dislikes anymore :(\"],\n [{\n            'v': 120,\n            'f': \"120\",\n        },\n\"Honestly im just waiting for the better youtube rewind. From ryan higga.\"],\n [{\n            'v': 121,\n            'f': \"121\",\n        },\n\"\\\"let's give the people what they want\\\"\\n\\\"We want a better rewind\\\"\\n\\\"Let's not give people what they want\\\"\"],\n [{\n            'v': 122,\n            'f': \"122\",\n        },\n\"Every year youtube just keeps getting disconnected from its content creators.\"],\n [{\n            'v': 123,\n            'f': \"123\",\n        },\n\"8:15 Legendary moment.\"],\n [{\n            'v': 124,\n            'f': \"124\",\n        },\n\"Let's face it, the animators made this rewind slightly better\\n\\nDang how'd this get 1.2k?\"],\n [{\n            'v': 125,\n            'f': \"125\",\n        },\n\"Man! 3 million likes with no dislikes? This must be an amazing video, I can\\u2019t wait to watch it\"],\n [{\n            'v': 126,\n            'f': \"126\",\n        },\n\"I felt a great disturbance, as if 19 million dislikes suddenly cried out in terror and were suddenly silenced. I fear something terrible has happened.\"],\n [{\n            'v': 127,\n            'f': \"127\",\n        },\n\"Probably the reason why YouTube got rid of the dislikes was because this video had 19 million dislikes\"],\n [{\n            'v': 128,\n            'f': \"128\",\n        },\n\"\\\"let's give the people what they want\\\"\\n\\nThe people: 19 Million dislikes\"],\n [{\n            'v': 129,\n            'f': \"129\",\n        },\n\"What a good video with 3 Million likes, i hope the entire YouTube community like this 2018 rewind\"],\n [{\n            'v': 130,\n            'f': \"130\",\n        },\n\"This is the equivalent of hitting every key on a piano at the same time.\"],\n [{\n            'v': 131,\n            'f': \"131\",\n        },\n\"Theory: what if this whole youtube getting rid of there dislikes thing, was just to make the worst video on youtube\\nNot look bad \"],\n [{\n            'v': 132,\n            'f': \"132\",\n        },\n\"It\\u2019s like we\\u2019re in a dystopian world and we did something we\\u2019re not supposed to, now we can\\u2019t do it no more \"],\n [{\n            'v': 133,\n            'f': \"133\",\n        },\n\"3 Million Likes and no Dislikes\\nThis video is too good, not cringe anymore\"],\n [{\n            'v': 134,\n            'f': \"134\",\n        },\n\"\\\"Let's give people what they want\\\"\\n\\n\\nPeople: 17M dislikes\"],\n [{\n            'v': 135,\n            'f': \"135\",\n        },\n\"8:14 The BEST Part Of The Whole Video\"],\n [{\n            'v': 136,\n            'f': \"136\",\n        },\n\"Removing the 19 million dislikes and keeping the 3 million likes is like a used car salesman telling you 3 positive things about a car but never mentioning it was in 9 previous accidents.\"],\n [{\n            'v': 137,\n            'f': \"137\",\n        },\n\"removing dislikes just shows how much is Youtube scared of actual feedback.\"],\n [{\n            'v': 138,\n            'f': \"138\",\n        },\n\"We are all talking bout the 19 million dislikes being taken off, but let's take a moment to think about the 3 million people who actually decided to like this.\"],\n [{\n            'v': 139,\n            'f': \"139\",\n        },\n\"rewatching this made me realize how out of touch youtube is, they really do deserve to be one of the most disliked content creators on youtube\"],\n [{\n            'v': 140,\n            'f': \"140\",\n        },\n\"I literally have completely no idea who 90% of the people in this are\"],\n [{\n            'v': 141,\n            'f': \"141\",\n        },\n\"Wow! 3 million likes! This must be a really good video with a very high public opinion! They really must\\u2019ve made a hilarious and relatable video to do that well!\"]],\n        columns: [[\"number\", \"index\"], [\"string\", \"comment\"]],\n        columnOptions: [{\"width\": \"1px\", \"className\": \"index_column\"}],\n        rowsPerPage: 25,\n        helpUrl: \"https://colab.research.google.com/notebooks/data_table.ipynb\",\n        suppressOutputScrolling: true,\n        minimumWidth: undefined,\n      });\n    ",
            "text/html": [
              "<div>\n",
              "<style scoped>\n",
              "    .dataframe tbody tr th:only-of-type {\n",
              "        vertical-align: middle;\n",
              "    }\n",
              "\n",
              "    .dataframe tbody tr th {\n",
              "        vertical-align: top;\n",
              "    }\n",
              "\n",
              "    .dataframe thead th {\n",
              "        text-align: right;\n",
              "    }\n",
              "</style>\n",
              "<table border=\"1\" class=\"dataframe\">\n",
              "  <thead>\n",
              "    <tr style=\"text-align: right;\">\n",
              "      <th></th>\n",
              "      <th>comment</th>\n",
              "    </tr>\n",
              "  </thead>\n",
              "  <tbody>\n",
              "    <tr>\n",
              "      <th>2</th>\n",
              "      <td>Let’s all take a moment of silence for the 19M...</td>\n",
              "    </tr>\n",
              "    <tr>\n",
              "      <th>3</th>\n",
              "      <td>Its nice that this video has no dislikes!\\nit ...</td>\n",
              "    </tr>\n",
              "    <tr>\n",
              "      <th>4</th>\n",
              "      <td>those 19M dislikes will never be forgotten. R....</td>\n",
              "    </tr>\n",
              "    <tr>\n",
              "      <th>5</th>\n",
              "      <td>3M likes with no dislikes! Woah this video mus...</td>\n",
              "    </tr>\n",
              "    <tr>\n",
              "      <th>6</th>\n",
              "      <td>I cant believe 3 million people liked this and...</td>\n",
              "    </tr>\n",
              "    <tr>\n",
              "      <th>...</th>\n",
              "      <td>...</td>\n",
              "    </tr>\n",
              "    <tr>\n",
              "      <th>137</th>\n",
              "      <td>removing dislikes just shows how much is Youtu...</td>\n",
              "    </tr>\n",
              "    <tr>\n",
              "      <th>138</th>\n",
              "      <td>We are all talking bout the 19 million dislike...</td>\n",
              "    </tr>\n",
              "    <tr>\n",
              "      <th>139</th>\n",
              "      <td>rewatching this made me realize how out of tou...</td>\n",
              "    </tr>\n",
              "    <tr>\n",
              "      <th>140</th>\n",
              "      <td>I literally have completely no idea who 90% of...</td>\n",
              "    </tr>\n",
              "    <tr>\n",
              "      <th>141</th>\n",
              "      <td>Wow! 3 million likes! This must be a really go...</td>\n",
              "    </tr>\n",
              "  </tbody>\n",
              "</table>\n",
              "<p>129 rows × 1 columns</p>\n",
              "</div>"
            ],
            "text/plain": [
              "                                               comment\n",
              "2    Let’s all take a moment of silence for the 19M...\n",
              "3    Its nice that this video has no dislikes!\\nit ...\n",
              "4    those 19M dislikes will never be forgotten. R....\n",
              "5    3M likes with no dislikes! Woah this video mus...\n",
              "6    I cant believe 3 million people liked this and...\n",
              "..                                                 ...\n",
              "137  removing dislikes just shows how much is Youtu...\n",
              "138  We are all talking bout the 19 million dislike...\n",
              "139  rewatching this made me realize how out of tou...\n",
              "140  I literally have completely no idea who 90% of...\n",
              "141  Wow! 3 million likes! This must be a really go...\n",
              "\n",
              "[129 rows x 1 columns]"
            ]
          },
          "metadata": {},
          "execution_count": 108
        }
      ]
    },
    {
      "cell_type": "markdown",
      "metadata": {
        "id": "JyT32f_TKBHF"
      },
      "source": [
        "# Sentiment Analysis\n",
        "\n",
        "**Using the Vader Sentiment Analysis package, here is how we will using the output to classify the output sentiment ([from the docs](https://github.com/cjhutto/vaderSentiment)):**\n",
        "\n",
        "The compound score is computed by summing the valence scores of each word in the lexicon, adjusted according to the rules, and then normalized to be between -1 (most extreme negative) and +1 (most extreme positive). This is the most useful metric if you want a single unidimensional measure of sentiment for a given sentence. Calling it a 'normalized, weighted composite score' is accurate.\n",
        "\n",
        "It is also useful for researchers who would like to set standardized thresholds for classifying sentences as either positive, neutral, or negative. Typical threshold values (used in the literature cited on this page) are:\n",
        "\n",
        "positive sentiment: compound score >= 0.05\n",
        "neutral sentiment: (compound score > -0.05) and (compound score < 0.05)\n",
        "negative sentiment: compound score <= -0.05"
      ]
    },
    {
      "cell_type": "code",
      "metadata": {
        "id": "AQaQfoGBWl1s",
        "colab": {
          "base_uri": "https://localhost:8080/",
          "height": 402
        },
        "outputId": "9f9c4e42-a1be-42d0-bd55-cc87adf35c05"
      },
      "source": [
        "!pip install vaderSentiment\n",
        "from vaderSentiment.vaderSentiment import SentimentIntensityAnalyzer"
      ],
      "execution_count": 109,
      "outputs": [
        {
          "output_type": "stream",
          "name": "stdout",
          "text": [
            "Requirement already satisfied: vaderSentiment in /usr/local/lib/python3.7/dist-packages (3.3.2)\n",
            "Requirement already satisfied: requests in /usr/local/lib/python3.7/dist-packages (from vaderSentiment) (2.23.0)\n",
            "Requirement already satisfied: idna<3,>=2.5 in /usr/local/lib/python3.7/dist-packages (from requests->vaderSentiment) (2.10)\n",
            "Requirement already satisfied: certifi>=2017.4.17 in /usr/local/lib/python3.7/dist-packages (from requests->vaderSentiment) (2021.10.8)\n",
            "Requirement already satisfied: chardet<4,>=3.0.2 in /usr/local/lib/python3.7/dist-packages (from requests->vaderSentiment) (3.0.4)\n",
            "Collecting urllib3!=1.25.0,!=1.25.1,<1.26,>=1.21.1\n",
            "  Using cached urllib3-1.25.11-py2.py3-none-any.whl (127 kB)\n",
            "Installing collected packages: urllib3\n",
            "  Attempting uninstall: urllib3\n",
            "    Found existing installation: urllib3 1.26.7\n",
            "    Uninstalling urllib3-1.26.7:\n",
            "      Successfully uninstalled urllib3-1.26.7\n",
            "\u001b[31mERROR: pip's dependency resolver does not currently take into account all the packages that are installed. This behaviour is the source of the following dependency conflicts.\n",
            "selenium 4.1.0 requires urllib3[secure]~=1.26, but you have urllib3 1.25.11 which is incompatible.\n",
            "datascience 0.10.6 requires folium==0.2.1, but you have folium 0.8.3 which is incompatible.\u001b[0m\n",
            "Successfully installed urllib3-1.25.11\n"
          ]
        },
        {
          "output_type": "display_data",
          "data": {
            "application/vnd.colab-display-data+json": {
              "pip_warning": {
                "packages": [
                  "urllib3"
                ]
              }
            }
          },
          "metadata": {}
        }
      ]
    },
    {
      "cell_type": "code",
      "metadata": {
        "id": "YNgyd7QNowh1"
      },
      "source": [
        "# function to print sentiments\n",
        "# of the sentence.\n",
        "def sentiment_scores(sentence):\n",
        "\n",
        " \n",
        "    # Create a SentimentIntensityAnalyzer object.\n",
        "    sid_obj = SentimentIntensityAnalyzer()\n",
        " \n",
        "    # polarity_scores method of SentimentIntensityAnalyzer\n",
        "    # object gives a sentiment dictionary.\n",
        "    # which contains pos, neg, neu, and compound scores.\n",
        "    sentiment_dict = sid_obj.polarity_scores(sentence)\n",
        "     \n",
        "    # print(\"Overall sentiment dictionary is : \", sentiment_dict)\n",
        "    # print(\"The compound score is: \", sentiment_dict[\"compound\"])\n",
        "    compound = sentiment_dict[\"compound\"]\n",
        "    # print(\"sentence was rated as \", sentiment_dict['neg']*100, \"% Negative\")\n",
        "    # print(\"sentence was rated as \", sentiment_dict['neu']*100, \"% Neutral\")\n",
        "    # print(\"sentence was rated as \", sentiment_dict['pos']*100, \"% Positive\")\n",
        " \n",
        "    # print(\"Sentence Overall Rated As\", end = \" \")\n",
        "\n",
        "    return compound\n",
        " \n",
        "\n",
        " \n",
        "\n",
        "def avg_comment_sentiment(comment_df):\n",
        "\n",
        "    # convert df to list\n",
        "    comment_list = comment_df.values.tolist()\n",
        "\n",
        "    comment_sentiments = [sentiment_scores(comment) for comment in comment_list]\n",
        "\n",
        "    # print(\"the comment sentiments are: \", comment_sentiments)\n",
        "\n",
        "    sentiment_score_total = 0\n",
        "    count = 0\n",
        "    for sentiment in comment_sentiments:\n",
        "        count += 1\n",
        "        sentiment_score_total = sentiment_score_total + sentiment\n",
        "\n",
        "\n",
        "    print(\"sentiment score total is: \", sentiment_score_total)\n",
        "    print(\"# comments is: \", count)\n",
        "    overall_sentiment = sentiment_score_total/count\n",
        "\n",
        "    print(\"overall sentiment is: \", overall_sentiment)\n",
        "\n",
        "\n",
        "    # decide sentiment as positive, negative and neutral\n",
        "    if overall_sentiment >= 0.05 :\n",
        "        print(\"Positive\")\n",
        " \n",
        "    elif overall_sentiment <= - 0.05 :\n",
        "        print(\"Negative\")\n",
        " \n",
        "    else :\n",
        "        print(\"Neutral\")\n"
      ],
      "execution_count": 110,
      "outputs": []
    },
    {
      "cell_type": "code",
      "metadata": {
        "colab": {
          "base_uri": "https://localhost:8080/"
        },
        "id": "TknGKCKnYMMz",
        "outputId": "8392beed-5aba-442a-e409-c44ac79b96ae"
      },
      "source": [
        "test1 = \"I hate you\"\n",
        "test2 = \"they ATE they ATE they A T E\"\n",
        "\n",
        "sentiment_scores(test1)\n",
        "sentiment_scores(test2)"
      ],
      "execution_count": 111,
      "outputs": [
        {
          "output_type": "execute_result",
          "data": {
            "text/plain": [
              "0.0"
            ]
          },
          "metadata": {},
          "execution_count": 111
        }
      ]
    },
    {
      "cell_type": "code",
      "metadata": {
        "colab": {
          "base_uri": "https://localhost:8080/"
        },
        "id": "mvll6EGRs0aB",
        "outputId": "28b65d5d-8ac0-429c-926a-759b8450bfb1"
      },
      "source": [
        "avg_comment_sentiment(df)"
      ],
      "execution_count": 112,
      "outputs": [
        {
          "output_type": "stream",
          "name": "stdout",
          "text": [
            "sentiment score total is:  -2.9960000000000004\n",
            "# comments is:  133\n",
            "overall sentiment is:  -0.022526315789473686\n",
            "Neutral\n"
          ]
        }
      ]
    },
    {
      "cell_type": "markdown",
      "metadata": {
        "id": "W2ombZOHOBvI"
      },
      "source": [
        "# Parallelization/Multi-Threading"
      ]
    }
  ]
}