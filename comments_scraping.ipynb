{
  "nbformat": 4,
  "nbformat_minor": 0,
  "metadata": {
    "colab": {
      "name": "comments_scraping.ipynb",
      "provenance": [],
      "collapsed_sections": [],
      "include_colab_link": true
    },
    "kernelspec": {
      "name": "python3",
      "display_name": "Python 3"
    },
    "language_info": {
      "name": "python"
    }
  },
  "cells": [
    {
      "cell_type": "markdown",
      "metadata": {
        "id": "view-in-github",
        "colab_type": "text"
      },
      "source": [
        "<a href=\"https://colab.research.google.com/github/amyyq2/CourseProject/blob/main/comments_scraping.ipynb\" target=\"_parent\"><img src=\"https://colab.research.google.com/assets/colab-badge.svg\" alt=\"Open In Colab\"/></a>"
      ]
    },
    {
      "cell_type": "code",
      "metadata": {
        "colab": {
          "base_uri": "https://localhost:8080/"
        },
        "id": "unN9PqBCAeg1",
        "outputId": "c5b32b6d-dc79-4650-fccf-2ed2aa02aa7c"
      },
      "source": [
        "!pip install selenium\n",
        "!apt-get update \n",
        "!apt install chromium-chromedriver"
      ],
      "execution_count": null,
      "outputs": [
        {
          "output_type": "stream",
          "name": "stdout",
          "text": [
            "Collecting selenium\n",
            "  Downloading selenium-4.0.0-py3-none-any.whl (954 kB)\n",
            "\u001b[K     |████████████████████████████████| 954 kB 36.5 MB/s \n",
            "\u001b[?25hCollecting urllib3[secure]~=1.26\n",
            "  Downloading urllib3-1.26.7-py2.py3-none-any.whl (138 kB)\n",
            "\u001b[K     |████████████████████████████████| 138 kB 51.1 MB/s \n",
            "\u001b[?25hCollecting trio~=0.17\n",
            "  Downloading trio-0.19.0-py3-none-any.whl (356 kB)\n",
            "\u001b[K     |████████████████████████████████| 356 kB 42.9 MB/s \n",
            "\u001b[?25hCollecting trio-websocket~=0.9\n",
            "  Downloading trio_websocket-0.9.2-py3-none-any.whl (16 kB)\n",
            "Collecting sniffio\n",
            "  Downloading sniffio-1.2.0-py3-none-any.whl (10 kB)\n",
            "Collecting outcome\n",
            "  Downloading outcome-1.1.0-py2.py3-none-any.whl (9.7 kB)\n",
            "Requirement already satisfied: idna in /usr/local/lib/python3.7/dist-packages (from trio~=0.17->selenium) (2.10)\n",
            "Requirement already satisfied: attrs>=19.2.0 in /usr/local/lib/python3.7/dist-packages (from trio~=0.17->selenium) (21.2.0)\n",
            "Requirement already satisfied: sortedcontainers in /usr/local/lib/python3.7/dist-packages (from trio~=0.17->selenium) (2.4.0)\n",
            "Collecting async-generator>=1.9\n",
            "  Downloading async_generator-1.10-py3-none-any.whl (18 kB)\n",
            "Collecting wsproto>=0.14\n",
            "  Downloading wsproto-1.0.0-py3-none-any.whl (24 kB)\n",
            "Requirement already satisfied: certifi in /usr/local/lib/python3.7/dist-packages (from urllib3[secure]~=1.26->selenium) (2021.10.8)\n",
            "Collecting cryptography>=1.3.4\n",
            "  Downloading cryptography-35.0.0-cp36-abi3-manylinux_2_24_x86_64.whl (3.5 MB)\n",
            "\u001b[K     |████████████████████████████████| 3.5 MB 39.9 MB/s \n",
            "\u001b[?25hCollecting pyOpenSSL>=0.14\n",
            "  Downloading pyOpenSSL-21.0.0-py2.py3-none-any.whl (55 kB)\n",
            "\u001b[K     |████████████████████████████████| 55 kB 2.9 MB/s \n",
            "\u001b[?25hRequirement already satisfied: cffi>=1.12 in /usr/local/lib/python3.7/dist-packages (from cryptography>=1.3.4->urllib3[secure]~=1.26->selenium) (1.15.0)\n",
            "Requirement already satisfied: pycparser in /usr/local/lib/python3.7/dist-packages (from cffi>=1.12->cryptography>=1.3.4->urllib3[secure]~=1.26->selenium) (2.21)\n",
            "Requirement already satisfied: six>=1.5.2 in /usr/local/lib/python3.7/dist-packages (from pyOpenSSL>=0.14->urllib3[secure]~=1.26->selenium) (1.15.0)\n",
            "Collecting h11<1,>=0.9.0\n",
            "  Downloading h11-0.12.0-py3-none-any.whl (54 kB)\n",
            "\u001b[K     |████████████████████████████████| 54 kB 3.2 MB/s \n",
            "\u001b[?25hInstalling collected packages: sniffio, outcome, h11, cryptography, async-generator, wsproto, urllib3, trio, pyOpenSSL, trio-websocket, selenium\n",
            "  Attempting uninstall: urllib3\n",
            "    Found existing installation: urllib3 1.24.3\n",
            "    Uninstalling urllib3-1.24.3:\n",
            "      Successfully uninstalled urllib3-1.24.3\n",
            "\u001b[31mERROR: pip's dependency resolver does not currently take into account all the packages that are installed. This behaviour is the source of the following dependency conflicts.\n",
            "requests 2.23.0 requires urllib3!=1.25.0,!=1.25.1,<1.26,>=1.21.1, but you have urllib3 1.26.7 which is incompatible.\n",
            "datascience 0.10.6 requires folium==0.2.1, but you have folium 0.8.3 which is incompatible.\u001b[0m\n",
            "Successfully installed async-generator-1.10 cryptography-35.0.0 h11-0.12.0 outcome-1.1.0 pyOpenSSL-21.0.0 selenium-4.0.0 sniffio-1.2.0 trio-0.19.0 trio-websocket-0.9.2 urllib3-1.26.7 wsproto-1.0.0\n",
            "Ign:1 https://developer.download.nvidia.com/compute/cuda/repos/ubuntu1804/x86_64  InRelease\n",
            "Get:2 http://ppa.launchpad.net/c2d4u.team/c2d4u4.0+/ubuntu bionic InRelease [15.9 kB]\n",
            "Hit:3 http://archive.ubuntu.com/ubuntu bionic InRelease\n",
            "Get:4 http://security.ubuntu.com/ubuntu bionic-security InRelease [88.7 kB]\n",
            "Ign:5 https://developer.download.nvidia.com/compute/machine-learning/repos/ubuntu1804/x86_64  InRelease\n",
            "Get:6 https://developer.download.nvidia.com/compute/cuda/repos/ubuntu1804/x86_64  Release [696 B]\n",
            "Hit:7 https://developer.download.nvidia.com/compute/machine-learning/repos/ubuntu1804/x86_64  Release\n",
            "Get:8 https://developer.download.nvidia.com/compute/cuda/repos/ubuntu1804/x86_64  Release.gpg [836 B]\n",
            "Get:9 http://archive.ubuntu.com/ubuntu bionic-updates InRelease [88.7 kB]\n",
            "Get:10 https://cloud.r-project.org/bin/linux/ubuntu bionic-cran40/ InRelease [3,626 B]\n",
            "Hit:11 http://ppa.launchpad.net/cran/libgit2/ubuntu bionic InRelease\n",
            "Get:12 http://archive.ubuntu.com/ubuntu bionic-backports InRelease [74.6 kB]\n",
            "Hit:13 http://ppa.launchpad.net/deadsnakes/ppa/ubuntu bionic InRelease\n",
            "Hit:14 http://ppa.launchpad.net/graphics-drivers/ppa/ubuntu bionic InRelease\n",
            "Get:15 http://ppa.launchpad.net/c2d4u.team/c2d4u4.0+/ubuntu bionic/main Sources [1,812 kB]\n",
            "Get:17 https://developer.download.nvidia.com/compute/cuda/repos/ubuntu1804/x86_64  Packages [808 kB]\n",
            "Get:18 http://ppa.launchpad.net/c2d4u.team/c2d4u4.0+/ubuntu bionic/main amd64 Packages [928 kB]\n",
            "Get:19 https://cloud.r-project.org/bin/linux/ubuntu bionic-cran40/ Packages [73.0 kB]\n",
            "Get:20 http://security.ubuntu.com/ubuntu bionic-security/main amd64 Packages [2,430 kB]\n",
            "Get:21 http://security.ubuntu.com/ubuntu bionic-security/universe amd64 Packages [1,439 kB]\n",
            "Get:22 http://security.ubuntu.com/ubuntu bionic-security/multiverse amd64 Packages [26.8 kB]\n",
            "Get:23 http://security.ubuntu.com/ubuntu bionic-security/restricted amd64 Packages [666 kB]\n",
            "Get:24 http://archive.ubuntu.com/ubuntu bionic-updates/universe amd64 Packages [2,220 kB]\n",
            "Get:25 http://archive.ubuntu.com/ubuntu bionic-updates/main amd64 Packages [2,868 kB]\n",
            "Get:26 http://archive.ubuntu.com/ubuntu bionic-updates/multiverse amd64 Packages [34.4 kB]\n",
            "Get:27 http://archive.ubuntu.com/ubuntu bionic-updates/restricted amd64 Packages [699 kB]\n",
            "Fetched 14.3 MB in 4s (3,709 kB/s)\n",
            "Reading package lists... Done\n",
            "Reading package lists... Done\n",
            "Building dependency tree       \n",
            "Reading state information... Done\n",
            "The following additional packages will be installed:\n",
            "  chromium-browser chromium-browser-l10n chromium-codecs-ffmpeg-extra\n",
            "Suggested packages:\n",
            "  webaccounts-chromium-extension unity-chromium-extension\n",
            "The following NEW packages will be installed:\n",
            "  chromium-browser chromium-browser-l10n chromium-chromedriver\n",
            "  chromium-codecs-ffmpeg-extra\n",
            "0 upgraded, 4 newly installed, 0 to remove and 61 not upgraded.\n",
            "Need to get 94.0 MB of archives.\n",
            "After this operation, 324 MB of additional disk space will be used.\n",
            "Get:1 http://archive.ubuntu.com/ubuntu bionic-updates/universe amd64 chromium-codecs-ffmpeg-extra amd64 95.0.4638.69-0ubuntu0.18.04.1 [1,135 kB]\n",
            "Get:2 http://archive.ubuntu.com/ubuntu bionic-updates/universe amd64 chromium-browser amd64 95.0.4638.69-0ubuntu0.18.04.1 [83.6 MB]\n",
            "Get:3 http://archive.ubuntu.com/ubuntu bionic-updates/universe amd64 chromium-browser-l10n all 95.0.4638.69-0ubuntu0.18.04.1 [4,249 kB]\n",
            "Get:4 http://archive.ubuntu.com/ubuntu bionic-updates/universe amd64 chromium-chromedriver amd64 95.0.4638.69-0ubuntu0.18.04.1 [4,986 kB]\n",
            "Fetched 94.0 MB in 3s (28.7 MB/s)\n",
            "Selecting previously unselected package chromium-codecs-ffmpeg-extra.\n",
            "(Reading database ... 155219 files and directories currently installed.)\n",
            "Preparing to unpack .../chromium-codecs-ffmpeg-extra_95.0.4638.69-0ubuntu0.18.04.1_amd64.deb ...\n",
            "Unpacking chromium-codecs-ffmpeg-extra (95.0.4638.69-0ubuntu0.18.04.1) ...\n",
            "Selecting previously unselected package chromium-browser.\n",
            "Preparing to unpack .../chromium-browser_95.0.4638.69-0ubuntu0.18.04.1_amd64.deb ...\n",
            "Unpacking chromium-browser (95.0.4638.69-0ubuntu0.18.04.1) ...\n",
            "Selecting previously unselected package chromium-browser-l10n.\n",
            "Preparing to unpack .../chromium-browser-l10n_95.0.4638.69-0ubuntu0.18.04.1_all.deb ...\n",
            "Unpacking chromium-browser-l10n (95.0.4638.69-0ubuntu0.18.04.1) ...\n",
            "Selecting previously unselected package chromium-chromedriver.\n",
            "Preparing to unpack .../chromium-chromedriver_95.0.4638.69-0ubuntu0.18.04.1_amd64.deb ...\n",
            "Unpacking chromium-chromedriver (95.0.4638.69-0ubuntu0.18.04.1) ...\n",
            "Setting up chromium-codecs-ffmpeg-extra (95.0.4638.69-0ubuntu0.18.04.1) ...\n",
            "Setting up chromium-browser (95.0.4638.69-0ubuntu0.18.04.1) ...\n",
            "update-alternatives: using /usr/bin/chromium-browser to provide /usr/bin/x-www-browser (x-www-browser) in auto mode\n",
            "update-alternatives: using /usr/bin/chromium-browser to provide /usr/bin/gnome-www-browser (gnome-www-browser) in auto mode\n",
            "Setting up chromium-chromedriver (95.0.4638.69-0ubuntu0.18.04.1) ...\n",
            "Setting up chromium-browser-l10n (95.0.4638.69-0ubuntu0.18.04.1) ...\n",
            "Processing triggers for man-db (2.8.3-2ubuntu0.1) ...\n",
            "Processing triggers for hicolor-icon-theme (0.17-2) ...\n",
            "Processing triggers for mime-support (3.60ubuntu1) ...\n",
            "Processing triggers for libc-bin (2.27-3ubuntu1.3) ...\n",
            "/sbin/ldconfig.real: /usr/local/lib/python3.7/dist-packages/ideep4py/lib/libmkldnn.so.0 is not a symbolic link\n",
            "\n"
          ]
        }
      ]
    },
    {
      "cell_type": "code",
      "metadata": {
        "colab": {
          "base_uri": "https://localhost:8080/"
        },
        "id": "5tNfAczlABE9",
        "outputId": "0b2ff1b1-3219-4695-bca1-4bdc0aafe8a6"
      },
      "source": [
        "import time\n",
        "from selenium.webdriver import Chrome\n",
        "from selenium.webdriver.common.by import By\n",
        "from selenium.webdriver.common.keys import Keys\n",
        "from selenium.webdriver.support.ui import WebDriverWait\n",
        "from selenium.webdriver.support import expected_conditions as EC\n",
        "import pandas as pd   \n",
        "from selenium import webdriver\n",
        "\n",
        "data=[]\n",
        "# driver = webdriver.Chrome('/path/to/chromedriver') \n",
        "chrome_options = webdriver.ChromeOptions()\n",
        "chrome_options.add_argument('--headless')\n",
        "chrome_options.add_argument('--no-sandbox')\n",
        "chrome_options.add_argument('--disable-dev-shm-usage')\n",
        "# driver = webdriver.Chrome('chromedriver',chrome_options=chrome_options)\n",
        "\n",
        "with Chrome('chromedriver',chrome_options=chrome_options) as driver:\n",
        "    wait = WebDriverWait(driver,15)\n",
        "    driver.get(\"https://www.youtube.com/watch?v=0EVVKs6DQLo\")\n",
        "\n",
        "    for item in range(40): \n",
        "        wait.until(EC.visibility_of_element_located((By.TAG_NAME, \"body\"))).send_keys(Keys.END)\n",
        "        # time.sleep(15)\n",
        "\n",
        "    for comment in wait.until(EC.presence_of_all_elements_located((By.CSS_SELECTOR, \"#content\"))):\n",
        "        data.append(comment.text)\n",
        "\n",
        "df = pd.DataFrame(data, columns=['comment'])"
      ],
      "execution_count": null,
      "outputs": [
        {
          "output_type": "stream",
          "name": "stderr",
          "text": [
            "/usr/local/lib/python3.7/dist-packages/ipykernel_launcher.py:18: DeprecationWarning: use options instead of chrome_options\n"
          ]
        }
      ]
    },
    {
      "cell_type": "code",
      "metadata": {
        "colab": {
          "base_uri": "https://localhost:8080/",
          "height": 689
        },
        "id": "u9PwVHjXFooe",
        "outputId": "6cd83904-1626-442d-d3b6-ea2ec4893128"
      },
      "source": [
        "%load_ext google.colab.data_table\n",
        "df.iloc[2: , :]"
      ],
      "execution_count": null,
      "outputs": [
        {
          "output_type": "stream",
          "name": "stdout",
          "text": [
            "The google.colab.data_table extension is already loaded. To reload it, use:\n",
            "  %reload_ext google.colab.data_table\n"
          ]
        },
        {
          "output_type": "execute_result",
          "data": {
            "application/vnd.google.colaboratory.module+javascript": "\n      import \"https://ssl.gstatic.com/colaboratory/data_table/a6224c040fa35dcf/data_table.js\";\n\n      window.createDataTable({\n        data: [[{\n            'v': 2,\n            'f': \"2\",\n        },\n\"This woman respected the covid 19 rules and went to another planet for her music video\"],\n [{\n            'v': 3,\n            'f': \"3\",\n        },\n\"perfect \"],\n [{\n            'v': 4,\n            'f': \"4\",\n        },\n\"Popular opinion: All Doja Cat songs are so addictive and aesthetically pleasing.\"],\n [{\n            'v': 5,\n            'f': \"5\",\n        },\n\"SZA voice is just always so infectious and doja voice just so catchy\"],\n [{\n            'v': 6,\n            'f': \"6\",\n        },\n\"It is IMPOSSIBLE for me to get sick of this song, even after seven months\\u2026\"],\n [{\n            'v': 7,\n            'f': \"7\",\n        },\n\"I always knew she wasn't from this planet.\"],\n [{\n            'v': 8,\n            'f': \"8\",\n        },\n\"i basically can\\u2019t stop listening to this song lmao. it\\u2019s in every one of my spotify playlists.\"],\n [{\n            'v': 9,\n            'f': \"9\",\n        },\n\"This is like one of the cutest songs to ever exist. The pink aesthetic, handsome Asian man, cherry blossoms. Yeah. I'm sold. \\ufe0f\"],\n [{\n            'v': 10,\n            'f': \"10\",\n        },\n\"I still can't believe the budget of this. So satisfying to see great artists like them feature in such high quality videos.\"],\n [{\n            'v': 11,\n            'f': \"11\",\n        },\n\"This song and \\u201cLove Me\\u201d by Lukaz are literally the only two things getting me through these hard times, thank god for music! I love you \\u2661\"],\n [{\n            'v': 12,\n            'f': \"12\",\n        },\n\"ok no one talking about doctor nico kim looking foineeee??\"],\n [{\n            'v': 13,\n            'f': \"13\",\n        },\n\"This song and \\u201cLove Me\\u201d by Lukaz are literally the only two things getting me through these hard times, thank god for music! I love you guys. !\"],\n [{\n            'v': 14,\n            'f': \"14\",\n        },\n\"What's up with her voice? Why is it so entrancing. Like it's hypnotic and catchy. Damn I love it.\"],\n [{\n            'v': 15,\n            'f': \"15\",\n        },\n\"We hug and yes, we make love\\nAnd always just say \\\"Goodnight\\\" (la-la-la-la-la)\\nAnd we cuddle, sure I do love it\\nBut I need your lips on mine\"],\n [{\n            'v': 16,\n            'f': \"16\",\n        },\n\"Their voices compliment each other well\"],\n [{\n            'v': 17,\n            'f': \"17\",\n        },\n\"we want a tv show next\"],\n [{\n            'v': 18,\n            'f': \"18\",\n        },\n\"I\\u2019m a 60 year old man enjoying the heck out of this song and video. I love me some Doja!\"],\n [{\n            'v': 19,\n            'f': \"19\",\n        },\n\"Girl what did you put in this song!? It\\u2019s been 6 months and I still can\\u2019t get over it.\"],\n [{\n            'v': 20,\n            'f': \"20\",\n        },\n\"Absolutely Love this song. The music is fire and doja cat sings great on the song\\n Well done\"],\n [{\n            'v': 21,\n            'f': \"21\",\n        },\n\"El ritmo es tan: \\n\\nY la letra es tan: \"],\n [{\n            'v': 22,\n            'f': \"22\",\n        },\n\"I want to point out how rare it is for ppl to use asian guys as \\u201cthe hot guy\\u201d in music videos. Love this, Alex Landi hot af.\"],\n [{\n            'v': 23,\n            'f': \"23\",\n        },\n\"my respective opinion: this song is so really good, I love the environment and all, ALL ON MY TONGUE, I WANT IT\"],\n [{\n            'v': 24,\n            'f': \"24\",\n        },\n\"The vibe of this song can't be matched by any other songs .\\nJust love it \\ufe0f\"],\n [{\n            'v': 25,\n            'f': \"25\",\n        },\n\"Seamos una generaci\\u00f3n llena de amor y no de maldad Dios nos ama  \\ud83c\\uddf2\\ud83c\\uddfd \\ufe0f \\ufe0f \\ufe0f\"],\n [{\n            'v': 26,\n            'f': \"26\",\n        },\n\"Que melodia mais linda\"],\n [{\n            'v': 27,\n            'f': \"27\",\n        },\n\"Can we just acknowledge that that man is FINE.\"],\n [{\n            'v': 28,\n            'f': \"28\",\n        },\n\"What an opportunity! Alex Landi must feel like he won the lottery getting the starring role in this music video! Not that starring in one of the longest running television series of all time, Grey's Anatomy wasn't awesome enough!\"],\n [{\n            'v': 29,\n            'f': \"29\",\n        },\n\"Sou viciado nessa m\\u00fasica perfeita\"],\n [{\n            'v': 30,\n            'f': \"30\",\n        },\n\"Your songs literally never disappoint me \"],\n [{\n            'v': 31,\n            'f': \"31\",\n        },\n\"De donde es esta chica tan bella cantando temazos como este.\\nLike si alguien escucha noviembre 2021\"],\n [{\n            'v': 32,\n            'f': \"32\",\n        },\n\"they ATE they ATE they  A T E\"],\n [{\n            'v': 33,\n            'f': \"33\",\n        },\n\"Gracias por su trabajo saludos cordiales desde cd Nezahualc\\u00f3yotl M\\u00e9xico \\ud83c\\uddf2\\ud83c\\uddfd\"],\n [{\n            'v': 34,\n            'f': \"34\",\n        },\n\"Amo esta canci\\u00f3n  me transmite tranquilidad \\u2661\"],\n [{\n            'v': 35,\n            'f': \"35\",\n        },\n\"nobody:\\nme, absolutely feeling myself to yet another doja masterpiece: \\\"I, I FEEL LIKE FUCKIN' SOMETHIN'.\\\" \\\"ALL ON MY TONGUE I WANT IT!\\\"\"],\n [{\n            'v': 36,\n            'f': \"36\",\n        },\n\"La canci\\u00f3n es magica y el video mucho m\\u00e1s \"],\n [{\n            'v': 37,\n            'f': \"37\",\n        },\n\"i think this is my summer song\"],\n [{\n            'v': 38,\n            'f': \"38\",\n        },\n\"There's something just so nostalgic about that beat. Like a GBA game midi\"],\n [{\n            'v': 39,\n            'f': \"39\",\n        },\n\"You are honestly such a great artist !!! So impressed with your progress and growth. You\\u2019ve taken the music industry like a storm. Good on you!!!\"],\n [{\n            'v': 40,\n            'f': \"40\",\n        },\n\"I feel bad for  people haven't descovered this \"],\n [{\n            'v': 41,\n            'f': \"41\",\n        },\n\"They go together so well!!!! I love how SZA rides the best like a wave. Doja\\u2019s tone is beautiful to me. I love both of their voices. \\nWas this video supposed to be \\u201cthe forbidden fruit\\u201d thing lol?\"],\n [{\n            'v': 42,\n            'f': \"42\",\n        },\n\"Doja must be happy that now she's on a new era and doesn't need to sing Say So in every single show\"],\n [{\n            'v': 43,\n            'f': \"43\",\n        },\n\"I\\u2019m glad I was able to witness a classic\"],\n [{\n            'v': 44,\n            'f': \"44\",\n        },\n\"So I'm not usually into this type of music but Doja Cat really one of my favorite artists now. Amazing.\"],\n [{\n            'v': 45,\n            'f': \"45\",\n        },\n\"The chorus is so catchy, amazing song!\"],\n [{\n            'v': 46,\n            'f': \"46\",\n        },\n\"Me encant\\u00f3!! Sobre todo el video, el modelo principal es asi\\u00e1tico eso me parece fenomenal y super guapo \\ufe0f\"],\n [{\n            'v': 47,\n            'f': \"47\",\n        },\n\"OH YA this is about to be such a summer bop\"],\n [{\n            'v': 48,\n            'f': \"48\",\n        },\n\"Me encanta\"],\n [{\n            'v': 49,\n            'f': \"49\",\n        },\n\"This song got released 7 months ago and it still feels like it just got out. Wow\"],\n [{\n            'v': 50,\n            'f': \"50\",\n        },\n\"This the kind of song you secretly bop to when your boys aren't around\"],\n [{\n            'v': 51,\n            'f': \"51\",\n        },\n\"It's crazy how many people come back to this every second This song is Legendary  \\u2661!\"],\n [{\n            'v': 52,\n            'f': \"52\",\n        },\n\"WELCOME TO PLANET HER LOVE THIS PLANET\"],\n [{\n            'v': 53,\n            'f': \"53\",\n        },\n\"Arrasou bee \"],\n [{\n            'v': 54,\n            'f': \"54\",\n        },\n\"She is really beautiful.. How can someone be so perfect?  I'm crying\"],\n [{\n            'v': 55,\n            'f': \"55\",\n        },\n\"hands down one of the best songs of the whole year\"],\n [{\n            'v': 56,\n            'f': \"56\",\n        },\n\"\\\" it's November 12th, let's see how many legends are listening to this beautiful masterpiece''.\"],\n [{\n            'v': 57,\n            'f': \"57\",\n        },\n\"Im so glad doja is having fun with ways she can sing and different styles.  This is a duo that had to happen\"],\n [{\n            'v': 58,\n            'f': \"58\",\n        },\n\"shoutout for them making an asian guy the main eye-candy we love diversity\"],\n [{\n            'v': 59,\n            'f': \"59\",\n        },\n\"Why is this song sooooo nostalgic? I am in tears every time!!!!\"],\n [{\n            'v': 60,\n            'f': \"60\",\n        },\n\"its been six months\\nlets see how many people are still rewatching this masterpiece this month\"],\n [{\n            'v': 61,\n            'f': \"61\",\n        },\n\"I really appreciate that the guy isn't the standard blond hair white guy beef cake, and that it's an Asian beef cake\"],\n [{\n            'v': 62,\n            'f': \"62\",\n        },\n\"Summer song\"],\n [{\n            'v': 63,\n            'f': \"63\",\n        },\n\"Lyrics:-\\nWe hug and yes, we make love\\nAnd always just say \\\"Goodnight\\\" (la-la-la-la-la)\\nAnd we cuddle, sure I do love it\"],\n [{\n            'v': 64,\n            'f': \"64\",\n        },\n\"it's crazy how many people come back to this everyday. this song is legendary\"],\n [{\n            'v': 65,\n            'f': \"65\",\n        },\n\"I CANT STOP LISTENING TO THIS MASTER PIECE!!\"],\n [{\n            'v': 66,\n            'f': \"66\",\n        },\n\"I love everything about this song, enough this is a gem, I just love it!\"],\n [{\n            'v': 67,\n            'f': \"67\",\n        },\n\"PLANET HER ERA IS FINALLY HERE HOT PINK IS FINALLY BEING LAID TO REST\"],\n [{\n            'v': 68,\n            'f': \"68\",\n        },\n\"Doja saludos desde Puerto Rico \\ud83c\\uddf5\\ud83c\\uddf7\\nYou are the best \"],\n [{\n            'v': 69,\n            'f': \"69\",\n        },\n\"Hit incr\\u00edvel\"],\n [{\n            'v': 70,\n            'f': \"70\",\n        },\n\"Amo demais essa m\\u00fasica , me traz um vibe boa positiva \\ufe0f\"],\n [{\n            'v': 71,\n            'f': \"71\",\n        },\n\"Love this song \"],\n [{\n            'v': 72,\n            'f': \"72\",\n        },\n\"Some guy has just paid $20 million to go into space next month and will probably just end up in a glass tank screaming for help... That's wild!\"],\n [{\n            'v': 73,\n            'f': \"73\",\n        },\n\"Aaah Doja Cat Planet! Amazing \\nAlso the song is a bop!\"],\n [{\n            'v': 74,\n            'f': \"74\",\n        },\n\"Hino\"],\n [{\n            'v': 75,\n            'f': \"75\",\n        },\n\"Beautiful so beautiful her voice makes me feel so happy that I'm here and alive God bless beauty of a black Nubian queen\"],\n [{\n            'v': 76,\n            'f': \"76\",\n        },\n\"No tengo preferencias pero entre todas las posibles candidatas, esta canci\\u00f3n merece ganar el Grammy a mejor colaboraci\\u00f3n, dejando de lado el fanatismo por alg\\u00fan artista \\ufe0f\"],\n [{\n            'v': 77,\n            'f': \"77\",\n        },\n\"Damm why do all 3 of them have to look so good.\"],\n [{\n            'v': 78,\n            'f': \"78\",\n        },\n\"This song and \\u201cLove Me\\u201d by Lukaz are two things of the only things that got me through the toughest of times. thank god for music! I love you!! \"],\n [{\n            'v': 79,\n            'f': \"79\",\n        },\n\"M\\u00fasica fofa\"],\n [{\n            'v': 80,\n            'f': \"80\",\n        },\n\"I really love your song  love and respect from india \\ud83c\\uddee\\ud83c\\uddf3\"],\n [{\n            'v': 81,\n            'f': \"81\",\n        },\n\"Timeless beat makes ya feel young and worry free like being out late as a kid with yo crew on the weekend \"],\n [{\n            'v': 82,\n            'f': \"82\",\n        },\n\"I love this song\"],\n [{\n            'v': 83,\n            'f': \"83\",\n        },\n\"Good Vibes \"],\n [{\n            'v': 84,\n            'f': \"84\",\n        },\n\"this is kinda great\"],\n [{\n            'v': 85,\n            'f': \"85\",\n        },\n\"I'm never getting fed up of this song.....like\"],\n [{\n            'v': 86,\n            'f': \"86\",\n        },\n\"I just realized when Doja says; \\u201cI just wanna get this boat across this stream but it feels like it\\u2019s taking #fivehundred years.\\u201d Wasn\\u2019t a throw away line, it was to show that she has characters that are centuries old if not any that are older annd it\\u2019s for Planet Her. \"],\n [{\n            'v': 87,\n            'f': \"87\",\n        },\n\"This song is like cotton candy, bubble gum and summer time sunsets all in one package.\"],\n [{\n            'v': 88,\n            'f': \"88\",\n        },\n\"simplesmente PERFEITA essa m\\u00fasica!\"],\n [{\n            'v': 89,\n            'f': \"89\",\n        },\n\"You played a part; this is how it starts; I just had a change of heart.\"],\n [{\n            'v': 90,\n            'f': \"90\",\n        },\n\"This is the poison that I've found so addictive and I love it \"],\n [{\n            'v': 91,\n            'f': \"91\",\n        },\n\"this song is so addicitive!!\"],\n [{\n            'v': 92,\n            'f': \"92\",\n        },\n\"Whats with all these ppl twerking in every damn comment section \"],\n [{\n            'v': 93,\n            'f': \"93\",\n        },\n\"This song and \\u201cClover Cage - Mad Scientist\\u201d are the only two things keeping me sane through these tough times. I just want to send love to everyone and I want everyone to know things will get better...We are in this together...I love you..\"],\n [{\n            'v': 94,\n            'f': \"94\",\n        },\n\"itsss really bop ..i cant stop listening to ittt \\ufe0f\\ufe0f\"],\n [{\n            'v': 95,\n            'f': \"95\",\n        },\n\"They sound way different at the end tho. I did not expect that. The song is good though\"],\n [{\n            'v': 96,\n            'f': \"96\",\n        },\n\"I can't believe I fell in love to Doja Cat's voice!\"],\n [{\n            'v': 97,\n            'f': \"97\",\n        },\n\"Can we just appreciate how lucky that guy is to be with both doja and sza in the same bed\"],\n [{\n            'v': 98,\n            'f': \"98\",\n        },\n\"Love it\"],\n [{\n            'v': 99,\n            'f': \"99\",\n        },\n\"Kiss me more y Freak son mis favoritas \"],\n [{\n            'v': 100,\n            'f': \"100\",\n        },\n\"Doja is like Pablo Escobar\\u2019s cocaine.. very addictive\"],\n [{\n            'v': 101,\n            'f': \"101\",\n        },\n\"Me hace mucho recordar al papasito evans\"],\n [{\n            'v': 102,\n            'f': \"102\",\n        },\n\"Every Doja Cat song sounds like a different shade of pink\"],\n [{\n            'v': 103,\n            'f': \"103\",\n        },\n\"\\ufe0fIrach loves this song \\ufe0f\"],\n [{\n            'v': 104,\n            'f': \"104\",\n        },\n\"Love this song \"],\n [{\n            'v': 105,\n            'f': \"105\",\n        },\n\"This song and \\u201cLove Me\\u201d by Lukaz are some of the only two things getting me through hard times, thank god for music! I love you! \\ufe0f\"],\n [{\n            'v': 106,\n            'f': \"106\",\n        },\n\"It\\u2019s been 6 months and this song still stuck in my head\"],\n [{\n            'v': 107,\n            'f': \"107\",\n        },\n\"Omg yessss Doja!!!!!!!! Been waiting for some new music. Love u\"],\n [{\n            'v': 108,\n            'f': \"108\",\n        },\n\"Song never dies fr fr \"],\n [{\n            'v': 109,\n            'f': \"109\",\n        },\n\"M\\u00fasica contagiosa,\"],\n [{\n            'v': 110,\n            'f': \"110\",\n        },\n\"In Love With This Song \\ufe0f\\ufe0f\\ufe0f\\ufe0f\\ufe0f\"],\n [{\n            'v': 111,\n            'f': \"111\",\n        },\n\"In Love With This Song \\ufe0f\\ufe0f\\ufe0f\\ufe0f\\ufe0f\"],\n [{\n            'v': 112,\n            'f': \"112\",\n        },\n\"I know Doja is happy to start a new era and don\\u2019t have to sing Say So every damn performance anymore.\"],\n [{\n            'v': 113,\n            'f': \"113\",\n        },\n\"This is my workout song. I dance high to Doja, what a feel good experience. And then replay it and I just do not want to stop dancing.\\nThank you GIRL, I LOVE YOU\\ufe0f\"],\n [{\n            'v': 114,\n            'f': \"114\",\n        },\n\"SHE HAS A BEAUTIFUL VOICE, LOVE IT.. \"],\n [{\n            'v': 115,\n            'f': \"115\",\n        },\n\"\"]],\n        columns: [[\"number\", \"index\"], [\"string\", \"comment\"]],\n        columnOptions: [{\"width\": \"1px\", \"className\": \"index_column\"}],\n        rowsPerPage: 25,\n        helpUrl: \"https://colab.research.google.com/notebooks/data_table.ipynb\",\n        suppressOutputScrolling: true,\n        minimumWidth: undefined,\n      });\n    ",
            "text/html": [
              "<div>\n",
              "<style scoped>\n",
              "    .dataframe tbody tr th:only-of-type {\n",
              "        vertical-align: middle;\n",
              "    }\n",
              "\n",
              "    .dataframe tbody tr th {\n",
              "        vertical-align: top;\n",
              "    }\n",
              "\n",
              "    .dataframe thead th {\n",
              "        text-align: right;\n",
              "    }\n",
              "</style>\n",
              "<table border=\"1\" class=\"dataframe\">\n",
              "  <thead>\n",
              "    <tr style=\"text-align: right;\">\n",
              "      <th></th>\n",
              "      <th>comment</th>\n",
              "    </tr>\n",
              "  </thead>\n",
              "  <tbody>\n",
              "    <tr>\n",
              "      <th>2</th>\n",
              "      <td>This woman respected the covid 19 rules and we...</td>\n",
              "    </tr>\n",
              "    <tr>\n",
              "      <th>3</th>\n",
              "      <td>perfect</td>\n",
              "    </tr>\n",
              "    <tr>\n",
              "      <th>4</th>\n",
              "      <td>Popular opinion: All Doja Cat songs are so add...</td>\n",
              "    </tr>\n",
              "    <tr>\n",
              "      <th>5</th>\n",
              "      <td>SZA voice is just always so infectious and doj...</td>\n",
              "    </tr>\n",
              "    <tr>\n",
              "      <th>6</th>\n",
              "      <td>It is IMPOSSIBLE for me to get sick of this so...</td>\n",
              "    </tr>\n",
              "    <tr>\n",
              "      <th>...</th>\n",
              "      <td>...</td>\n",
              "    </tr>\n",
              "    <tr>\n",
              "      <th>111</th>\n",
              "      <td>In Love With This Song ️️️️️</td>\n",
              "    </tr>\n",
              "    <tr>\n",
              "      <th>112</th>\n",
              "      <td>I know Doja is happy to start a new era and do...</td>\n",
              "    </tr>\n",
              "    <tr>\n",
              "      <th>113</th>\n",
              "      <td>This is my workout song. I dance high to Doja,...</td>\n",
              "    </tr>\n",
              "    <tr>\n",
              "      <th>114</th>\n",
              "      <td>SHE HAS A BEAUTIFUL VOICE, LOVE IT..</td>\n",
              "    </tr>\n",
              "    <tr>\n",
              "      <th>115</th>\n",
              "      <td></td>\n",
              "    </tr>\n",
              "  </tbody>\n",
              "</table>\n",
              "<p>114 rows × 1 columns</p>\n",
              "</div>"
            ],
            "text/plain": [
              "                                               comment\n",
              "2    This woman respected the covid 19 rules and we...\n",
              "3                                             perfect \n",
              "4    Popular opinion: All Doja Cat songs are so add...\n",
              "5    SZA voice is just always so infectious and doj...\n",
              "6    It is IMPOSSIBLE for me to get sick of this so...\n",
              "..                                                 ...\n",
              "111                       In Love With This Song ️️️️️\n",
              "112  I know Doja is happy to start a new era and do...\n",
              "113  This is my workout song. I dance high to Doja,...\n",
              "114              SHE HAS A BEAUTIFUL VOICE, LOVE IT.. \n",
              "115                                                   \n",
              "\n",
              "[114 rows x 1 columns]"
            ]
          },
          "metadata": {},
          "execution_count": 37
        }
      ]
    },
    {
      "cell_type": "markdown",
      "metadata": {
        "id": "lZQ1sdVvHwQl"
      },
      "source": [
        "# Data Cleaning\n",
        "- Filter out the emojis\n",
        "- Filter out the newlines\n",
        "- Filter out non-english comments\n",
        "- Filter out any empty rows\n",
        "- Filter out EXACT duplicate comments\n"
      ]
    },
    {
      "cell_type": "markdown",
      "metadata": {
        "id": "JyT32f_TKBHF"
      },
      "source": [
        "# Sentiment Analysis\n",
        "- Find a model \n",
        "- Assuming we will output a numerical value for each sentence"
      ]
    },
    {
      "cell_type": "markdown",
      "metadata": {
        "id": "W2ombZOHOBvI"
      },
      "source": [
        "# Parallelization/Multi-Threading"
      ]
    }
  ]
}